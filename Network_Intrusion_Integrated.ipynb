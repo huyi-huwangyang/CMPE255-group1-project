{
 "cells": [
  {
   "cell_type": "code",
   "execution_count": 171,
   "id": "adc8492b",
   "metadata": {},
   "outputs": [],
   "source": [
    "import pandas as pd\n",
    "import numpy as np\n",
    "import requests\n",
    "import seaborn as sns\n",
    "import matplotlib.pyplot as plt\n",
    "from sklearn.model_selection import train_test_split\n",
    "from sklearn.preprocessing import MinMaxScaler\n",
    "from sklearn.preprocessing import LabelEncoder\n",
    "from sklearn import tree\n",
    "from sklearn.linear_model import LogisticRegression\n",
    "from sklearn.ensemble import RandomForestClassifier\n",
    "from sklearn.naive_bayes import GaussianNB\n",
    "from sklearn import metrics\n",
    "from sklearn.metrics import accuracy_score\n",
    "from sklearn.metrics import confusion_matrix\n",
    "from sklearn.metrics import classification_report"
   ]
  },
  {
   "cell_type": "code",
   "execution_count": 40,
   "id": "7835ce87",
   "metadata": {},
   "outputs": [],
   "source": [
    "col_names = [\"duration\",\"protocol_type\",\"service\",\"flag\",\"src_bytes\",\n",
    "             \"dst_bytes\",\"land\",\"wrong_fragment\",\"urgent\",\"hot\",\"num_failed_logins\",\n",
    "             \"logged_in\",\"num_compromised\",\"root_shell\",\"su_attempted\",\"num_root\",\n",
    "             \"num_file_creations\",\"num_shells\",\"num_access_files\",\"num_outbound_cmds\",\n",
    "             \"is_host_login\",\"is_guest_login\",\"count\",\"srv_count\",\"serror_rate\",\n",
    "             \"srv_serror_rate\",\"rerror_rate\",\"srv_rerror_rate\",\"same_srv_rate\",\n",
    "             \"diff_srv_rate\",\"srv_diff_host_rate\",\"dst_host_count\",\"dst_host_srv_count\",\n",
    "             \"dst_host_same_srv_rate\",\"dst_host_diff_srv_rate\",\"dst_host_same_src_port_rate\",\n",
    "             \"dst_host_srv_diff_host_rate\",\"dst_host_serror_rate\",\"dst_host_srv_serror_rate\",\n",
    "             \"dst_host_rerror_rate\",\"dst_host_srv_rerror_rate\",\"label\"]"
   ]
  },
  {
   "cell_type": "code",
   "execution_count": 5,
   "id": "a1eb7bfa",
   "metadata": {},
   "outputs": [],
   "source": [
    "kdd_data_set = 'http://kdd.ics.uci.edu/databases/kddcup99/kddcup.data.gz'\n",
    "kdd_attack_types = 'http://kdd.ics.uci.edu/databases/kddcup99/training_attack_types'"
   ]
  },
  {
   "cell_type": "code",
   "execution_count": 6,
   "id": "12aa597f",
   "metadata": {},
   "outputs": [],
   "source": [
    "df_kdd_data = pd.read_csv(kdd_data_set, header=None, names = col_names)"
   ]
  },
  {
   "cell_type": "code",
   "execution_count": 7,
   "id": "0b464b03",
   "metadata": {},
   "outputs": [
    {
     "name": "stdout",
     "output_type": "stream",
     "text": [
      "{'back': 'dos', 'dos': 'warezclient', 'buffer_overflow': 'u2r', 'u2r': 'satan', 'ftp_write': 'r2l', 'r2l': 'warezmaster', 'guess_passwd': 'r2l', 'imap': 'r2l', 'ipsweep': 'probe', 'probe': 'smurf', 'land': 'dos', 'loadmodule': 'u2r', 'multihop': 'r2l', 'neptune': 'dos', 'nmap': 'probe', 'perl': 'u2r', 'phf': 'r2l', 'pod': 'dos', 'portsweep': 'probe', 'rootkit': 'u2r', 'satan': 'probe', 'smurf': 'dos', 'spy': 'r2l', 'teardrop': 'dos', 'warezclient': 'r2l', 'warezmaster': 'r2l', 'normal': 'normal'}\n"
     ]
    }
   ],
   "source": [
    "types = requests.get(kdd_attack_types)\n",
    "attack_dict = {}\n",
    "types_text_split = types.text.split()\n",
    "for idx in range(0, len(types_text_split)):\n",
    "    if idx < len(types_text_split) -1:\n",
    "        attack_dict[types_text_split[idx]] = types_text_split[idx+1]\n",
    "attack_dict['normal'] = 'normal'\n",
    "print(attack_dict)"
   ]
  },
  {
   "cell_type": "code",
   "execution_count": 139,
   "id": "ba2d219c",
   "metadata": {},
   "outputs": [
    {
     "data": {
      "text/html": [
       "<div>\n",
       "<style scoped>\n",
       "    .dataframe tbody tr th:only-of-type {\n",
       "        vertical-align: middle;\n",
       "    }\n",
       "\n",
       "    .dataframe tbody tr th {\n",
       "        vertical-align: top;\n",
       "    }\n",
       "\n",
       "    .dataframe thead th {\n",
       "        text-align: right;\n",
       "    }\n",
       "</style>\n",
       "<table border=\"1\" class=\"dataframe\">\n",
       "  <thead>\n",
       "    <tr style=\"text-align: right;\">\n",
       "      <th></th>\n",
       "      <th>duration</th>\n",
       "      <th>src_bytes</th>\n",
       "      <th>dst_bytes</th>\n",
       "      <th>land</th>\n",
       "      <th>wrong_fragment</th>\n",
       "      <th>urgent</th>\n",
       "      <th>hot</th>\n",
       "      <th>num_failed_logins</th>\n",
       "      <th>logged_in</th>\n",
       "      <th>num_compromised</th>\n",
       "      <th>...</th>\n",
       "      <th>dst_host_count</th>\n",
       "      <th>dst_host_srv_count</th>\n",
       "      <th>dst_host_same_srv_rate</th>\n",
       "      <th>dst_host_diff_srv_rate</th>\n",
       "      <th>dst_host_same_src_port_rate</th>\n",
       "      <th>dst_host_srv_diff_host_rate</th>\n",
       "      <th>dst_host_serror_rate</th>\n",
       "      <th>dst_host_srv_serror_rate</th>\n",
       "      <th>dst_host_rerror_rate</th>\n",
       "      <th>dst_host_srv_rerror_rate</th>\n",
       "    </tr>\n",
       "  </thead>\n",
       "  <tbody>\n",
       "    <tr>\n",
       "      <th>count</th>\n",
       "      <td>4.898431e+06</td>\n",
       "      <td>4.898431e+06</td>\n",
       "      <td>4.898431e+06</td>\n",
       "      <td>4.898431e+06</td>\n",
       "      <td>4.898431e+06</td>\n",
       "      <td>4.898431e+06</td>\n",
       "      <td>4.898431e+06</td>\n",
       "      <td>4.898431e+06</td>\n",
       "      <td>4.898431e+06</td>\n",
       "      <td>4.898431e+06</td>\n",
       "      <td>...</td>\n",
       "      <td>4.898431e+06</td>\n",
       "      <td>4.898431e+06</td>\n",
       "      <td>4.898431e+06</td>\n",
       "      <td>4.898431e+06</td>\n",
       "      <td>4.898431e+06</td>\n",
       "      <td>4.898431e+06</td>\n",
       "      <td>4.898431e+06</td>\n",
       "      <td>4.898431e+06</td>\n",
       "      <td>4.898431e+06</td>\n",
       "      <td>4.898431e+06</td>\n",
       "    </tr>\n",
       "    <tr>\n",
       "      <th>mean</th>\n",
       "      <td>4.834243e+01</td>\n",
       "      <td>1.834621e+03</td>\n",
       "      <td>1.093623e+03</td>\n",
       "      <td>5.716116e-06</td>\n",
       "      <td>6.487792e-04</td>\n",
       "      <td>7.961733e-06</td>\n",
       "      <td>1.243766e-02</td>\n",
       "      <td>3.205108e-05</td>\n",
       "      <td>1.435290e-01</td>\n",
       "      <td>8.088304e-03</td>\n",
       "      <td>...</td>\n",
       "      <td>2.329811e+02</td>\n",
       "      <td>1.892142e+02</td>\n",
       "      <td>7.537132e-01</td>\n",
       "      <td>3.071111e-02</td>\n",
       "      <td>6.050520e-01</td>\n",
       "      <td>6.464107e-03</td>\n",
       "      <td>1.780911e-01</td>\n",
       "      <td>1.778859e-01</td>\n",
       "      <td>5.792780e-02</td>\n",
       "      <td>5.765941e-02</td>\n",
       "    </tr>\n",
       "    <tr>\n",
       "      <th>std</th>\n",
       "      <td>7.233298e+02</td>\n",
       "      <td>9.414311e+05</td>\n",
       "      <td>6.450123e+05</td>\n",
       "      <td>2.390833e-03</td>\n",
       "      <td>4.285434e-02</td>\n",
       "      <td>7.215084e-03</td>\n",
       "      <td>4.689782e-01</td>\n",
       "      <td>7.299408e-03</td>\n",
       "      <td>3.506116e-01</td>\n",
       "      <td>3.856481e+00</td>\n",
       "      <td>...</td>\n",
       "      <td>6.402094e+01</td>\n",
       "      <td>1.059128e+02</td>\n",
       "      <td>4.111860e-01</td>\n",
       "      <td>1.085432e-01</td>\n",
       "      <td>4.809877e-01</td>\n",
       "      <td>4.125978e-02</td>\n",
       "      <td>3.818382e-01</td>\n",
       "      <td>3.821774e-01</td>\n",
       "      <td>2.309428e-01</td>\n",
       "      <td>2.309777e-01</td>\n",
       "    </tr>\n",
       "    <tr>\n",
       "      <th>min</th>\n",
       "      <td>0.000000e+00</td>\n",
       "      <td>0.000000e+00</td>\n",
       "      <td>0.000000e+00</td>\n",
       "      <td>0.000000e+00</td>\n",
       "      <td>0.000000e+00</td>\n",
       "      <td>0.000000e+00</td>\n",
       "      <td>0.000000e+00</td>\n",
       "      <td>0.000000e+00</td>\n",
       "      <td>0.000000e+00</td>\n",
       "      <td>0.000000e+00</td>\n",
       "      <td>...</td>\n",
       "      <td>0.000000e+00</td>\n",
       "      <td>0.000000e+00</td>\n",
       "      <td>0.000000e+00</td>\n",
       "      <td>0.000000e+00</td>\n",
       "      <td>0.000000e+00</td>\n",
       "      <td>0.000000e+00</td>\n",
       "      <td>0.000000e+00</td>\n",
       "      <td>0.000000e+00</td>\n",
       "      <td>0.000000e+00</td>\n",
       "      <td>0.000000e+00</td>\n",
       "    </tr>\n",
       "    <tr>\n",
       "      <th>25%</th>\n",
       "      <td>0.000000e+00</td>\n",
       "      <td>4.500000e+01</td>\n",
       "      <td>0.000000e+00</td>\n",
       "      <td>0.000000e+00</td>\n",
       "      <td>0.000000e+00</td>\n",
       "      <td>0.000000e+00</td>\n",
       "      <td>0.000000e+00</td>\n",
       "      <td>0.000000e+00</td>\n",
       "      <td>0.000000e+00</td>\n",
       "      <td>0.000000e+00</td>\n",
       "      <td>...</td>\n",
       "      <td>2.550000e+02</td>\n",
       "      <td>4.900000e+01</td>\n",
       "      <td>4.100000e-01</td>\n",
       "      <td>0.000000e+00</td>\n",
       "      <td>0.000000e+00</td>\n",
       "      <td>0.000000e+00</td>\n",
       "      <td>0.000000e+00</td>\n",
       "      <td>0.000000e+00</td>\n",
       "      <td>0.000000e+00</td>\n",
       "      <td>0.000000e+00</td>\n",
       "    </tr>\n",
       "    <tr>\n",
       "      <th>50%</th>\n",
       "      <td>0.000000e+00</td>\n",
       "      <td>5.200000e+02</td>\n",
       "      <td>0.000000e+00</td>\n",
       "      <td>0.000000e+00</td>\n",
       "      <td>0.000000e+00</td>\n",
       "      <td>0.000000e+00</td>\n",
       "      <td>0.000000e+00</td>\n",
       "      <td>0.000000e+00</td>\n",
       "      <td>0.000000e+00</td>\n",
       "      <td>0.000000e+00</td>\n",
       "      <td>...</td>\n",
       "      <td>2.550000e+02</td>\n",
       "      <td>2.550000e+02</td>\n",
       "      <td>1.000000e+00</td>\n",
       "      <td>0.000000e+00</td>\n",
       "      <td>1.000000e+00</td>\n",
       "      <td>0.000000e+00</td>\n",
       "      <td>0.000000e+00</td>\n",
       "      <td>0.000000e+00</td>\n",
       "      <td>0.000000e+00</td>\n",
       "      <td>0.000000e+00</td>\n",
       "    </tr>\n",
       "    <tr>\n",
       "      <th>75%</th>\n",
       "      <td>0.000000e+00</td>\n",
       "      <td>1.032000e+03</td>\n",
       "      <td>0.000000e+00</td>\n",
       "      <td>0.000000e+00</td>\n",
       "      <td>0.000000e+00</td>\n",
       "      <td>0.000000e+00</td>\n",
       "      <td>0.000000e+00</td>\n",
       "      <td>0.000000e+00</td>\n",
       "      <td>0.000000e+00</td>\n",
       "      <td>0.000000e+00</td>\n",
       "      <td>...</td>\n",
       "      <td>2.550000e+02</td>\n",
       "      <td>2.550000e+02</td>\n",
       "      <td>1.000000e+00</td>\n",
       "      <td>4.000000e-02</td>\n",
       "      <td>1.000000e+00</td>\n",
       "      <td>0.000000e+00</td>\n",
       "      <td>0.000000e+00</td>\n",
       "      <td>0.000000e+00</td>\n",
       "      <td>0.000000e+00</td>\n",
       "      <td>0.000000e+00</td>\n",
       "    </tr>\n",
       "    <tr>\n",
       "      <th>max</th>\n",
       "      <td>5.832900e+04</td>\n",
       "      <td>1.379964e+09</td>\n",
       "      <td>1.309937e+09</td>\n",
       "      <td>1.000000e+00</td>\n",
       "      <td>3.000000e+00</td>\n",
       "      <td>1.400000e+01</td>\n",
       "      <td>7.700000e+01</td>\n",
       "      <td>5.000000e+00</td>\n",
       "      <td>1.000000e+00</td>\n",
       "      <td>7.479000e+03</td>\n",
       "      <td>...</td>\n",
       "      <td>2.550000e+02</td>\n",
       "      <td>2.550000e+02</td>\n",
       "      <td>1.000000e+00</td>\n",
       "      <td>1.000000e+00</td>\n",
       "      <td>1.000000e+00</td>\n",
       "      <td>1.000000e+00</td>\n",
       "      <td>1.000000e+00</td>\n",
       "      <td>1.000000e+00</td>\n",
       "      <td>1.000000e+00</td>\n",
       "      <td>1.000000e+00</td>\n",
       "    </tr>\n",
       "  </tbody>\n",
       "</table>\n",
       "<p>8 rows × 38 columns</p>\n",
       "</div>"
      ],
      "text/plain": [
       "           duration     src_bytes     dst_bytes          land  wrong_fragment  \\\n",
       "count  4.898431e+06  4.898431e+06  4.898431e+06  4.898431e+06    4.898431e+06   \n",
       "mean   4.834243e+01  1.834621e+03  1.093623e+03  5.716116e-06    6.487792e-04   \n",
       "std    7.233298e+02  9.414311e+05  6.450123e+05  2.390833e-03    4.285434e-02   \n",
       "min    0.000000e+00  0.000000e+00  0.000000e+00  0.000000e+00    0.000000e+00   \n",
       "25%    0.000000e+00  4.500000e+01  0.000000e+00  0.000000e+00    0.000000e+00   \n",
       "50%    0.000000e+00  5.200000e+02  0.000000e+00  0.000000e+00    0.000000e+00   \n",
       "75%    0.000000e+00  1.032000e+03  0.000000e+00  0.000000e+00    0.000000e+00   \n",
       "max    5.832900e+04  1.379964e+09  1.309937e+09  1.000000e+00    3.000000e+00   \n",
       "\n",
       "             urgent           hot  num_failed_logins     logged_in  \\\n",
       "count  4.898431e+06  4.898431e+06       4.898431e+06  4.898431e+06   \n",
       "mean   7.961733e-06  1.243766e-02       3.205108e-05  1.435290e-01   \n",
       "std    7.215084e-03  4.689782e-01       7.299408e-03  3.506116e-01   \n",
       "min    0.000000e+00  0.000000e+00       0.000000e+00  0.000000e+00   \n",
       "25%    0.000000e+00  0.000000e+00       0.000000e+00  0.000000e+00   \n",
       "50%    0.000000e+00  0.000000e+00       0.000000e+00  0.000000e+00   \n",
       "75%    0.000000e+00  0.000000e+00       0.000000e+00  0.000000e+00   \n",
       "max    1.400000e+01  7.700000e+01       5.000000e+00  1.000000e+00   \n",
       "\n",
       "       num_compromised  ...  dst_host_count  dst_host_srv_count  \\\n",
       "count     4.898431e+06  ...    4.898431e+06        4.898431e+06   \n",
       "mean      8.088304e-03  ...    2.329811e+02        1.892142e+02   \n",
       "std       3.856481e+00  ...    6.402094e+01        1.059128e+02   \n",
       "min       0.000000e+00  ...    0.000000e+00        0.000000e+00   \n",
       "25%       0.000000e+00  ...    2.550000e+02        4.900000e+01   \n",
       "50%       0.000000e+00  ...    2.550000e+02        2.550000e+02   \n",
       "75%       0.000000e+00  ...    2.550000e+02        2.550000e+02   \n",
       "max       7.479000e+03  ...    2.550000e+02        2.550000e+02   \n",
       "\n",
       "       dst_host_same_srv_rate  dst_host_diff_srv_rate  \\\n",
       "count            4.898431e+06            4.898431e+06   \n",
       "mean             7.537132e-01            3.071111e-02   \n",
       "std              4.111860e-01            1.085432e-01   \n",
       "min              0.000000e+00            0.000000e+00   \n",
       "25%              4.100000e-01            0.000000e+00   \n",
       "50%              1.000000e+00            0.000000e+00   \n",
       "75%              1.000000e+00            4.000000e-02   \n",
       "max              1.000000e+00            1.000000e+00   \n",
       "\n",
       "       dst_host_same_src_port_rate  dst_host_srv_diff_host_rate  \\\n",
       "count                 4.898431e+06                 4.898431e+06   \n",
       "mean                  6.050520e-01                 6.464107e-03   \n",
       "std                   4.809877e-01                 4.125978e-02   \n",
       "min                   0.000000e+00                 0.000000e+00   \n",
       "25%                   0.000000e+00                 0.000000e+00   \n",
       "50%                   1.000000e+00                 0.000000e+00   \n",
       "75%                   1.000000e+00                 0.000000e+00   \n",
       "max                   1.000000e+00                 1.000000e+00   \n",
       "\n",
       "       dst_host_serror_rate  dst_host_srv_serror_rate  dst_host_rerror_rate  \\\n",
       "count          4.898431e+06              4.898431e+06          4.898431e+06   \n",
       "mean           1.780911e-01              1.778859e-01          5.792780e-02   \n",
       "std            3.818382e-01              3.821774e-01          2.309428e-01   \n",
       "min            0.000000e+00              0.000000e+00          0.000000e+00   \n",
       "25%            0.000000e+00              0.000000e+00          0.000000e+00   \n",
       "50%            0.000000e+00              0.000000e+00          0.000000e+00   \n",
       "75%            0.000000e+00              0.000000e+00          0.000000e+00   \n",
       "max            1.000000e+00              1.000000e+00          1.000000e+00   \n",
       "\n",
       "       dst_host_srv_rerror_rate  \n",
       "count              4.898431e+06  \n",
       "mean               5.765941e-02  \n",
       "std                2.309777e-01  \n",
       "min                0.000000e+00  \n",
       "25%                0.000000e+00  \n",
       "50%                0.000000e+00  \n",
       "75%                0.000000e+00  \n",
       "max                1.000000e+00  \n",
       "\n",
       "[8 rows x 38 columns]"
      ]
     },
     "execution_count": 139,
     "metadata": {},
     "output_type": "execute_result"
    }
   ],
   "source": [
    "df_kdd_data.describe()"
   ]
  },
  {
   "cell_type": "code",
   "execution_count": 9,
   "id": "7b8f8894",
   "metadata": {},
   "outputs": [],
   "source": [
    "# We have 4 categorical fields, and 4 binary fields. As a first step, we go around exploring the categorical variables."
   ]
  },
  {
   "cell_type": "code",
   "execution_count": 141,
   "id": "2df2a6fb",
   "metadata": {},
   "outputs": [
    {
     "data": {
      "text/plain": [
       "(4898431, 42)"
      ]
     },
     "execution_count": 141,
     "metadata": {},
     "output_type": "execute_result"
    }
   ],
   "source": [
    "df_kdd_data.shape"
   ]
  },
  {
   "cell_type": "markdown",
   "id": "46c25e6d",
   "metadata": {},
   "source": [
    "<h2>Data Exploration </h2>"
   ]
  },
  {
   "cell_type": "code",
   "execution_count": 91,
   "id": "c2cd2766",
   "metadata": {},
   "outputs": [],
   "source": [
    "# Copy the data frame for repeated evaulation.\n",
    "df = df_kdd_data.copy(deep=True)"
   ]
  },
  {
   "cell_type": "code",
   "execution_count": 92,
   "id": "3b76983a",
   "metadata": {},
   "outputs": [
    {
     "name": "stdout",
     "output_type": "stream",
     "text": [
      "Categorical ['protocol_type', 'flag', 'service', 'label']\n",
      "Numerical Index(['duration', 'src_bytes', 'dst_bytes', 'land', 'wrong_fragment',\n",
      "       'urgent', 'hot', 'num_failed_logins', 'logged_in', 'num_compromised',\n",
      "       'root_shell', 'su_attempted', 'num_root', 'num_file_creations',\n",
      "       'num_shells', 'num_access_files', 'num_outbound_cmds', 'is_host_login',\n",
      "       'is_guest_login', 'count', 'srv_count', 'serror_rate',\n",
      "       'srv_serror_rate', 'rerror_rate', 'srv_rerror_rate', 'same_srv_rate',\n",
      "       'diff_srv_rate', 'srv_diff_host_rate', 'dst_host_count',\n",
      "       'dst_host_srv_count', 'dst_host_same_srv_rate',\n",
      "       'dst_host_diff_srv_rate', 'dst_host_same_src_port_rate',\n",
      "       'dst_host_srv_diff_host_rate', 'dst_host_serror_rate',\n",
      "       'dst_host_srv_serror_rate', 'dst_host_rerror_rate',\n",
      "       'dst_host_srv_rerror_rate'],\n",
      "      dtype='object')\n"
     ]
    }
   ],
   "source": [
    "# Identifying categorical features\n",
    "numeric_cols = df._get_numeric_data().columns # gets all the numeric column names\n",
    "categorical_cols = list(set(df.columns)-set(numeric_cols))\n",
    "print(\"Categorical {}\".format(categorical_cols))\n",
    "print(\"Numerical {}\".format(numeric_cols))"
   ]
  },
  {
   "cell_type": "code",
   "execution_count": 93,
   "id": "c8796723",
   "metadata": {},
   "outputs": [
    {
     "name": "stdout",
     "output_type": "stream",
     "text": [
      "land - [0(100.0%) , 1(0.0%)]\n",
      "logged_in - [0(85.6%) , 1(14.4%)]\n",
      "root_shell - [0(100.0%) , 1(0.0%)]\n",
      "num_outbound_cmds - [0(100.0%)]\n",
      "is_host_login - [0(100.0%) , 1(0.0%)]\n",
      "is_guest_login - [0(99.9%) , 1(0.1%)]\n"
     ]
    }
   ],
   "source": [
    "# Converting the Binary Variables in to Categorical. This will help us to better understand the continuous variables.\n",
    "binary_cols = []\n",
    "for col in numeric_cols:\n",
    "    if len(df[col].unique()) <= 2:\n",
    "        result = []\n",
    "        s = df[col].value_counts()\n",
    "        t = float(len(df[col]))\n",
    "        for v in s.index:\n",
    "            result.append(\"{}({}%)\".format(v,round(100*(s[v]/t),1)))\n",
    "        print(\"{} - [{}]\".format(col, \" , \".join(result)))\n",
    "        binary_cols.append(col)\n",
    "# combine all categorical column names\n",
    "for col in binary_cols:\n",
    "    categorical_cols.append(col)"
   ]
  },
  {
   "cell_type": "code",
   "execution_count": 94,
   "id": "d4c38baa",
   "metadata": {},
   "outputs": [
    {
     "name": "stdout",
     "output_type": "stream",
     "text": [
      "New Categorical Set ['protocol_type', 'flag', 'service', 'label', 'land', 'logged_in', 'root_shell', 'num_outbound_cmds', 'is_host_login', 'is_guest_login']\n"
     ]
    }
   ],
   "source": [
    "print(\"New Categorical Set {}\".format(categorical_cols))"
   ]
  },
  {
   "cell_type": "code",
   "execution_count": 95,
   "id": "fafcfbca",
   "metadata": {},
   "outputs": [
    {
     "name": "stdout",
     "output_type": "stream",
     "text": [
      "New Numerical Set Index(['duration', 'src_bytes', 'dst_bytes', 'land', 'wrong_fragment',\n",
      "       'urgent', 'hot', 'num_failed_logins', 'logged_in', 'num_compromised',\n",
      "       'root_shell', 'su_attempted', 'num_root', 'num_file_creations',\n",
      "       'num_shells', 'num_access_files', 'num_outbound_cmds', 'is_host_login',\n",
      "       'is_guest_login', 'count', 'srv_count', 'serror_rate',\n",
      "       'srv_serror_rate', 'rerror_rate', 'srv_rerror_rate', 'same_srv_rate',\n",
      "       'diff_srv_rate', 'srv_diff_host_rate', 'dst_host_count',\n",
      "       'dst_host_srv_count', 'dst_host_same_srv_rate',\n",
      "       'dst_host_diff_srv_rate', 'dst_host_same_src_port_rate',\n",
      "       'dst_host_srv_diff_host_rate', 'dst_host_serror_rate',\n",
      "       'dst_host_srv_serror_rate', 'dst_host_rerror_rate',\n",
      "       'dst_host_srv_rerror_rate'],\n",
      "      dtype='object')\n"
     ]
    }
   ],
   "source": [
    "numeric_features = list(set(numeric_cols)-set(categorical_cols))\n",
    "print(\"New Numerical Set {}\".format(numeric_cols))"
   ]
  },
  {
   "cell_type": "code",
   "execution_count": 96,
   "id": "310faa24",
   "metadata": {},
   "outputs": [],
   "source": [
    "def binary_classifier(train_data):\n",
    "#   Converting the labels as 0 (Normal) and 1 as (Attack)\n",
    "    train_data['label'][train_data['label']!='normal.'] = 'attack'  # end with .\n",
    "    train_data['label'][train_data['label']=='normal.'] = 0\n",
    "    train_data['label'][train_data['label']=='attack'] = 1\n",
    "    train_data[['label']] = train_data[['label']].apply(pd.to_numeric)\n",
    "    return train_data"
   ]
  },
  {
   "cell_type": "code",
   "execution_count": 97,
   "id": "1eacb04d",
   "metadata": {},
   "outputs": [],
   "source": [
    "# EDA For Categorical Data."
   ]
  },
  {
   "cell_type": "code",
   "execution_count": 98,
   "id": "8fc04808",
   "metadata": {},
   "outputs": [
    {
     "data": {
      "text/plain": [
       "smurf.              2807886\n",
       "neptune.            1072017\n",
       "normal.              972781\n",
       "satan.                15892\n",
       "ipsweep.              12481\n",
       "portsweep.            10413\n",
       "nmap.                  2316\n",
       "back.                  2203\n",
       "warezclient.           1020\n",
       "teardrop.               979\n",
       "pod.                    264\n",
       "guess_passwd.            53\n",
       "buffer_overflow.         30\n",
       "land.                    21\n",
       "warezmaster.             20\n",
       "imap.                    12\n",
       "rootkit.                 10\n",
       "loadmodule.               9\n",
       "ftp_write.                8\n",
       "multihop.                 7\n",
       "phf.                      4\n",
       "perl.                     3\n",
       "spy.                      2\n",
       "Name: label, dtype: int64"
      ]
     },
     "execution_count": 98,
     "metadata": {},
     "output_type": "execute_result"
    }
   ],
   "source": [
    "df.label.value_counts()"
   ]
  },
  {
   "cell_type": "code",
   "execution_count": 99,
   "id": "5d15b858",
   "metadata": {},
   "outputs": [],
   "source": [
    "# The dependency variable or label feature has multiple attacks, for this project we will explore around the binary classification.\n",
    "# In this analysis, we only identify if a attack can be identified based on the input features\n",
    "# We represet attacks as 1 and normal as 0"
   ]
  },
  {
   "cell_type": "code",
   "execution_count": 100,
   "id": "5f3b1f60",
   "metadata": {},
   "outputs": [
    {
     "name": "stderr",
     "output_type": "stream",
     "text": [
      "<ipython-input-96-1079852dd6aa>:3: SettingWithCopyWarning: \n",
      "A value is trying to be set on a copy of a slice from a DataFrame\n",
      "\n",
      "See the caveats in the documentation: https://pandas.pydata.org/pandas-docs/stable/user_guide/indexing.html#returning-a-view-versus-a-copy\n",
      "  train_data['label'][train_data['label']!='normal.'] = 'attack'  # end with .\n",
      "<ipython-input-96-1079852dd6aa>:4: SettingWithCopyWarning: \n",
      "A value is trying to be set on a copy of a slice from a DataFrame\n",
      "\n",
      "See the caveats in the documentation: https://pandas.pydata.org/pandas-docs/stable/user_guide/indexing.html#returning-a-view-versus-a-copy\n",
      "  train_data['label'][train_data['label']=='normal.'] = 0\n",
      "<ipython-input-96-1079852dd6aa>:5: SettingWithCopyWarning: \n",
      "A value is trying to be set on a copy of a slice from a DataFrame\n",
      "\n",
      "See the caveats in the documentation: https://pandas.pydata.org/pandas-docs/stable/user_guide/indexing.html#returning-a-view-versus-a-copy\n",
      "  train_data['label'][train_data['label']=='attack'] = 1\n"
     ]
    },
    {
     "data": {
      "text/html": [
       "<div>\n",
       "<style scoped>\n",
       "    .dataframe tbody tr th:only-of-type {\n",
       "        vertical-align: middle;\n",
       "    }\n",
       "\n",
       "    .dataframe tbody tr th {\n",
       "        vertical-align: top;\n",
       "    }\n",
       "\n",
       "    .dataframe thead th {\n",
       "        text-align: right;\n",
       "    }\n",
       "</style>\n",
       "<table border=\"1\" class=\"dataframe\">\n",
       "  <thead>\n",
       "    <tr style=\"text-align: right;\">\n",
       "      <th></th>\n",
       "      <th>duration</th>\n",
       "      <th>protocol_type</th>\n",
       "      <th>service</th>\n",
       "      <th>flag</th>\n",
       "      <th>src_bytes</th>\n",
       "      <th>dst_bytes</th>\n",
       "      <th>land</th>\n",
       "      <th>wrong_fragment</th>\n",
       "      <th>urgent</th>\n",
       "      <th>hot</th>\n",
       "      <th>...</th>\n",
       "      <th>dst_host_srv_count</th>\n",
       "      <th>dst_host_same_srv_rate</th>\n",
       "      <th>dst_host_diff_srv_rate</th>\n",
       "      <th>dst_host_same_src_port_rate</th>\n",
       "      <th>dst_host_srv_diff_host_rate</th>\n",
       "      <th>dst_host_serror_rate</th>\n",
       "      <th>dst_host_srv_serror_rate</th>\n",
       "      <th>dst_host_rerror_rate</th>\n",
       "      <th>dst_host_srv_rerror_rate</th>\n",
       "      <th>label</th>\n",
       "    </tr>\n",
       "  </thead>\n",
       "  <tbody>\n",
       "    <tr>\n",
       "      <th>0</th>\n",
       "      <td>0</td>\n",
       "      <td>tcp</td>\n",
       "      <td>http</td>\n",
       "      <td>SF</td>\n",
       "      <td>215</td>\n",
       "      <td>45076</td>\n",
       "      <td>0</td>\n",
       "      <td>0</td>\n",
       "      <td>0</td>\n",
       "      <td>0</td>\n",
       "      <td>...</td>\n",
       "      <td>0</td>\n",
       "      <td>0.0</td>\n",
       "      <td>0.0</td>\n",
       "      <td>0.00</td>\n",
       "      <td>0.0</td>\n",
       "      <td>0.0</td>\n",
       "      <td>0.0</td>\n",
       "      <td>0.0</td>\n",
       "      <td>0.0</td>\n",
       "      <td>0</td>\n",
       "    </tr>\n",
       "    <tr>\n",
       "      <th>1</th>\n",
       "      <td>0</td>\n",
       "      <td>tcp</td>\n",
       "      <td>http</td>\n",
       "      <td>SF</td>\n",
       "      <td>162</td>\n",
       "      <td>4528</td>\n",
       "      <td>0</td>\n",
       "      <td>0</td>\n",
       "      <td>0</td>\n",
       "      <td>0</td>\n",
       "      <td>...</td>\n",
       "      <td>1</td>\n",
       "      <td>1.0</td>\n",
       "      <td>0.0</td>\n",
       "      <td>1.00</td>\n",
       "      <td>0.0</td>\n",
       "      <td>0.0</td>\n",
       "      <td>0.0</td>\n",
       "      <td>0.0</td>\n",
       "      <td>0.0</td>\n",
       "      <td>0</td>\n",
       "    </tr>\n",
       "    <tr>\n",
       "      <th>2</th>\n",
       "      <td>0</td>\n",
       "      <td>tcp</td>\n",
       "      <td>http</td>\n",
       "      <td>SF</td>\n",
       "      <td>236</td>\n",
       "      <td>1228</td>\n",
       "      <td>0</td>\n",
       "      <td>0</td>\n",
       "      <td>0</td>\n",
       "      <td>0</td>\n",
       "      <td>...</td>\n",
       "      <td>2</td>\n",
       "      <td>1.0</td>\n",
       "      <td>0.0</td>\n",
       "      <td>0.50</td>\n",
       "      <td>0.0</td>\n",
       "      <td>0.0</td>\n",
       "      <td>0.0</td>\n",
       "      <td>0.0</td>\n",
       "      <td>0.0</td>\n",
       "      <td>0</td>\n",
       "    </tr>\n",
       "    <tr>\n",
       "      <th>3</th>\n",
       "      <td>0</td>\n",
       "      <td>tcp</td>\n",
       "      <td>http</td>\n",
       "      <td>SF</td>\n",
       "      <td>233</td>\n",
       "      <td>2032</td>\n",
       "      <td>0</td>\n",
       "      <td>0</td>\n",
       "      <td>0</td>\n",
       "      <td>0</td>\n",
       "      <td>...</td>\n",
       "      <td>3</td>\n",
       "      <td>1.0</td>\n",
       "      <td>0.0</td>\n",
       "      <td>0.33</td>\n",
       "      <td>0.0</td>\n",
       "      <td>0.0</td>\n",
       "      <td>0.0</td>\n",
       "      <td>0.0</td>\n",
       "      <td>0.0</td>\n",
       "      <td>0</td>\n",
       "    </tr>\n",
       "    <tr>\n",
       "      <th>4</th>\n",
       "      <td>0</td>\n",
       "      <td>tcp</td>\n",
       "      <td>http</td>\n",
       "      <td>SF</td>\n",
       "      <td>239</td>\n",
       "      <td>486</td>\n",
       "      <td>0</td>\n",
       "      <td>0</td>\n",
       "      <td>0</td>\n",
       "      <td>0</td>\n",
       "      <td>...</td>\n",
       "      <td>4</td>\n",
       "      <td>1.0</td>\n",
       "      <td>0.0</td>\n",
       "      <td>0.25</td>\n",
       "      <td>0.0</td>\n",
       "      <td>0.0</td>\n",
       "      <td>0.0</td>\n",
       "      <td>0.0</td>\n",
       "      <td>0.0</td>\n",
       "      <td>0</td>\n",
       "    </tr>\n",
       "  </tbody>\n",
       "</table>\n",
       "<p>5 rows × 42 columns</p>\n",
       "</div>"
      ],
      "text/plain": [
       "   duration protocol_type service flag  src_bytes  dst_bytes  land  \\\n",
       "0         0           tcp    http   SF        215      45076     0   \n",
       "1         0           tcp    http   SF        162       4528     0   \n",
       "2         0           tcp    http   SF        236       1228     0   \n",
       "3         0           tcp    http   SF        233       2032     0   \n",
       "4         0           tcp    http   SF        239        486     0   \n",
       "\n",
       "   wrong_fragment  urgent  hot  ...  dst_host_srv_count  \\\n",
       "0               0       0    0  ...                   0   \n",
       "1               0       0    0  ...                   1   \n",
       "2               0       0    0  ...                   2   \n",
       "3               0       0    0  ...                   3   \n",
       "4               0       0    0  ...                   4   \n",
       "\n",
       "   dst_host_same_srv_rate  dst_host_diff_srv_rate  \\\n",
       "0                     0.0                     0.0   \n",
       "1                     1.0                     0.0   \n",
       "2                     1.0                     0.0   \n",
       "3                     1.0                     0.0   \n",
       "4                     1.0                     0.0   \n",
       "\n",
       "   dst_host_same_src_port_rate  dst_host_srv_diff_host_rate  \\\n",
       "0                         0.00                          0.0   \n",
       "1                         1.00                          0.0   \n",
       "2                         0.50                          0.0   \n",
       "3                         0.33                          0.0   \n",
       "4                         0.25                          0.0   \n",
       "\n",
       "   dst_host_serror_rate  dst_host_srv_serror_rate  dst_host_rerror_rate  \\\n",
       "0                   0.0                       0.0                   0.0   \n",
       "1                   0.0                       0.0                   0.0   \n",
       "2                   0.0                       0.0                   0.0   \n",
       "3                   0.0                       0.0                   0.0   \n",
       "4                   0.0                       0.0                   0.0   \n",
       "\n",
       "   dst_host_srv_rerror_rate  label  \n",
       "0                       0.0      0  \n",
       "1                       0.0      0  \n",
       "2                       0.0      0  \n",
       "3                       0.0      0  \n",
       "4                       0.0      0  \n",
       "\n",
       "[5 rows x 42 columns]"
      ]
     },
     "execution_count": 100,
     "metadata": {},
     "output_type": "execute_result"
    }
   ],
   "source": [
    "df = binary_classifier(df)\n",
    "df.head()"
   ]
  },
  {
   "cell_type": "code",
   "execution_count": 101,
   "id": "f07d83a2",
   "metadata": {},
   "outputs": [
    {
     "data": {
      "image/png": "[encoded data removed]",
      "text/plain": [
       "<Figure size 216x216 with 1 Axes>"
      ]
     },
     "metadata": {},
     "output_type": "display_data"
    }
   ],
   "source": [
    "# Pie chart to show normal vs. attacks\n",
    "colors = [\"#9d95f5\", \"#93f5eb\"]\n",
    "labels = ['normal', 'attack']\n",
    "sizes = [97278, 494020-97278]\n",
    "explode = (0.05, 0.05)  \n",
    "plt.pie(sizes, explode =explode ,labels=labels, autopct='%1.1f%%', colors=colors, shadow=False, startangle=90)\n",
    "plt.axis('equal')\n",
    "plt.title('Distribution of normal vs attack\\n')\n",
    "plt.tight_layout()\n",
    "fig = plt.gcf()\n",
    "fig.set_size_inches(3,3)\n",
    "plt.show()"
   ]
  },
  {
   "cell_type": "code",
   "execution_count": 102,
   "id": "90292f21",
   "metadata": {},
   "outputs": [],
   "source": [
    "# for column in categorical_cols:\n",
    "#     print(\"------------------------------------------------------------\")\n",
    "#     print(\"Column : {}\\n{}\".format(column, df[column].value_counts()))\n",
    "#     print(\"------------------------------------------------------------\")\n"
   ]
  },
  {
   "cell_type": "code",
   "execution_count": 103,
   "id": "7e62d098",
   "metadata": {},
   "outputs": [],
   "source": [
    "# Need a graph for protocol type and the label"
   ]
  },
  {
   "cell_type": "code",
   "execution_count": 104,
   "id": "2be2cb88",
   "metadata": {},
   "outputs": [],
   "source": [
    "# Need a grapg"
   ]
  },
  {
   "cell_type": "code",
   "execution_count": 105,
   "id": "b24555fc",
   "metadata": {},
   "outputs": [],
   "source": [
    "# The above analysis yields that, columns num_outbound_cmds has only one value. On the other hand, columns service and flag \n",
    "# high cardenality ratio.  high cardenality might end up with feature too sparse, better remove those features.\n",
    "# We choose to remove 'service', 'flag', num_outbound_cmds\n",
    "# and keep the 'protocol_type', 'label'. 'label' will be replaced with 0 (normal), 1 (has attack) for binary classifier\n",
    "# and with attack types(reduced label set) for the multi-class classifier."
   ]
  },
  {
   "cell_type": "code",
   "execution_count": 106,
   "id": "1ee406b8",
   "metadata": {},
   "outputs": [],
   "source": [
    "# df.drop('service',axis = 1,inplace = True)\n",
    "df.drop('flag',axis = 1,inplace = True)\n",
    "df.drop('num_outbound_cmds',axis = 1,inplace = True)"
   ]
  },
  {
   "cell_type": "code",
   "execution_count": 107,
   "id": "e1abe7c1",
   "metadata": {},
   "outputs": [],
   "source": [
    "# Converting Categorical values to numeric\n",
    "#protocol_type feature mapping\n",
    "pmap = {'icmp':0,'tcp':1,'udp':2}\n",
    "df['protocol_type'] = df['protocol_type'].map(pmap)"
   ]
  },
  {
   "cell_type": "code",
   "execution_count": 113,
   "id": "81897927",
   "metadata": {},
   "outputs": [],
   "source": [
    "# Converting service to continuous value\n",
    "label_encoder = LabelEncoder()\n",
    "df['service']= label_encoder.fit_transform(df['service'])"
   ]
  },
  {
   "cell_type": "code",
   "execution_count": 114,
   "id": "99b5a10b",
   "metadata": {},
   "outputs": [
    {
     "data": {
      "text/plain": [
       "15    2811660\n",
       "49    1100831\n",
       "24     623091\n",
       "54      96554\n",
       "44      72653\n",
       "       ...   \n",
       "61          3\n",
       "27          2\n",
       "3           2\n",
       "22          2\n",
       "25          1\n",
       "Name: service, Length: 70, dtype: int64"
      ]
     },
     "execution_count": 114,
     "metadata": {},
     "output_type": "execute_result"
    }
   ],
   "source": [
    "df.service.value_counts()"
   ]
  },
  {
   "cell_type": "markdown",
   "id": "6fc55a70",
   "metadata": {},
   "source": [
    "# Continuos variable analysis"
   ]
  },
  {
   "cell_type": "code",
   "execution_count": 115,
   "id": "98a4a7bc",
   "metadata": {},
   "outputs": [
    {
     "data": {
      "image/png": "[encoded data removed]",
      "text/plain": [
       "<Figure size 1080x864 with 2 Axes>"
      ]
     },
     "metadata": {
      "needs_background": "light"
     },
     "output_type": "display_data"
    }
   ],
   "source": [
    "corr = df[numeric_features].corr()\n",
    "plt.figure(figsize=(15,12))\n",
    "sns.heatmap(corr)\n",
    "plt.show()"
   ]
  },
  {
   "cell_type": "code",
   "execution_count": 116,
   "id": "1080e9d5",
   "metadata": {},
   "outputs": [
    {
     "name": "stdout",
     "output_type": "stream",
     "text": [
      "num_root vs num_compromised 0.9975798933487737\n",
      "srv_serror_rate vs serror_rate0.9986924138664222\n",
      "srv_count vs count 0.9433902218808042\n",
      "srv_rerror_rate vs rerror_rate 0.9953719458068703\n",
      "dst_host_same_srv_rate vs 0.9788464524225914 dst_host_srv_count\n",
      "dst_host_srv_serror_rate0.998285955975919 vs dst_host_serror_rate\n",
      "dst_host_srv_rerror_rate vs dst_host_rerror_rate0.9869790678086942\n",
      "dst_host_same_srv_rate vs same_srv_rate0.9316213679073936\n",
      "dst_host_srv_count vs same_srv_rate0.9075289446662882\n",
      "dst_host_same_src_port_rate vs srv_count0.9473596471554561\n",
      "dst_host_serror_rate vs serror_rate 0.9990059376728406\n",
      "dst_host_serror_rate vs srv_serror_rate 0.9979417182527545\n",
      "dst_host_srv_serror_rate vs serror_rate 0.9982509415923287\n",
      "dst_host_srv_serror_rate vs 0.9993917300385466\n",
      "dst_host_rerror_rate vs rerror_rate 0.9897555886509829\n",
      "dst_host_rerror_rate vs srv_rerror_rate 0.9855530624565976\n",
      "dst_host_srv_rerror_rate vs rerror_rate0.9859781723139902\n",
      "dst_host_srv_rerror_rate vs srv_rerror_rate 0.9879088754808538\n"
     ]
    }
   ],
   "source": [
    "print(\"num_root vs num_compromised {}\".format(df['num_root'].corr(df['num_compromised'])))\n",
    "print(\"srv_serror_rate vs serror_rate{}\".format(df['srv_serror_rate'].corr(df['serror_rate'])))\n",
    "print(\"srv_count vs count {}\".format(df['srv_count'].corr(df['count'])))\n",
    "print(\"srv_rerror_rate vs rerror_rate {}\".format(df['srv_rerror_rate'].corr(df['rerror_rate'])))\n",
    "print(\"dst_host_same_srv_rate vs {} dst_host_srv_count\".format(df['dst_host_same_srv_rate'].corr(df['dst_host_srv_count'])))\n",
    "print(\"dst_host_srv_serror_rate{} vs dst_host_serror_rate\".format(df['dst_host_srv_serror_rate'].corr(df['dst_host_serror_rate'])))\n",
    "print(\"dst_host_srv_rerror_rate vs dst_host_rerror_rate{}\".format(df['dst_host_srv_rerror_rate'].corr(df['dst_host_rerror_rate'])))\n",
    "print(\"dst_host_same_srv_rate vs same_srv_rate{}\".format(df['dst_host_same_srv_rate'].corr(df['same_srv_rate'])))\n",
    "print(\"dst_host_srv_count vs same_srv_rate{}\".format(df['dst_host_srv_count'].corr(df['same_srv_rate'])))\n",
    "print(\"dst_host_same_src_port_rate vs srv_count{}\".format(df['dst_host_same_src_port_rate'].corr(df['srv_count'])))\n",
    "print(\"dst_host_serror_rate vs serror_rate {}\".format(df['dst_host_serror_rate'].corr(df['serror_rate'])))\n",
    "print(\"dst_host_serror_rate vs srv_serror_rate {}\".format(df['dst_host_serror_rate'].corr(df['srv_serror_rate'])))\n",
    "print(\"dst_host_srv_serror_rate vs serror_rate {}\".format(df['dst_host_srv_serror_rate'].corr(df['serror_rate'])))\n",
    "print(\"dst_host_srv_serror_rate vs {}\".format(df['dst_host_srv_serror_rate'].corr(df['srv_serror_rate'])))\n",
    "print(\"dst_host_rerror_rate vs rerror_rate {}\".format(df['dst_host_rerror_rate'].corr(df['rerror_rate'])))\n",
    "print(\"dst_host_rerror_rate vs srv_rerror_rate {}\".format(df['dst_host_rerror_rate'].corr(df['srv_rerror_rate'])))\n",
    "print(\"dst_host_srv_rerror_rate vs rerror_rate{}\".format(df['dst_host_srv_rerror_rate'].corr(df['rerror_rate'])))\n",
    "print(\"dst_host_srv_rerror_rate vs srv_rerror_rate {}\".format(df['dst_host_srv_rerror_rate'].corr(df['srv_rerror_rate'])))"
   ]
  },
  {
   "cell_type": "code",
   "execution_count": 117,
   "id": "7bb00e7f",
   "metadata": {},
   "outputs": [],
   "source": [
    "# Based on the correlation, computation we will drop columns that are highly coorelated.\n",
    "df.drop('num_root',axis = 1,inplace = True)\n",
    "df.drop('srv_serror_rate',axis = 1,inplace = True)\n",
    "df.drop('srv_rerror_rate',axis = 1, inplace=True)\n",
    "df.drop('dst_host_srv_serror_rate',axis = 1, inplace=True)\n",
    "df.drop('dst_host_serror_rate',axis = 1, inplace=True)\n",
    "df.drop('dst_host_rerror_rate',axis = 1, inplace=True)\n",
    "df.drop('dst_host_srv_rerror_rate',axis = 1, inplace=True)\n",
    "df.drop('dst_host_same_srv_rate',axis = 1, inplace=True)"
   ]
  },
  {
   "cell_type": "code",
   "execution_count": null,
   "id": "f697f55a",
   "metadata": {},
   "outputs": [],
   "source": []
  },
  {
   "cell_type": "code",
   "execution_count": 118,
   "id": "adbd46b3",
   "metadata": {},
   "outputs": [],
   "source": [
    "def multiclass_classifier(train_data):\n",
    "    print(\"Multiclass Classifier\")\n",
    "    types = requests.get(kdd_attack_types)\n",
    "    attack_dict = {}\n",
    "    types_text_split = types.text.split()\n",
    "    for idx in range(0, len(types_text_split)):\n",
    "        if idx < len(types_text_split) -1:\n",
    "            attack_dict[types_text_split[idx]] = types_text_split[idx+1]\n",
    "    attack_dict['normal'] = 'normal'\n",
    "    #   Some label values have . at the end, so just copying everything, except the last character\n",
    "    train_data['label'] = train_data.label.apply(lambda x : attack_dict[x[0:-1]] )\n",
    "    return train_data"
   ]
  },
  {
   "cell_type": "markdown",
   "id": "ecb5d479",
   "metadata": {},
   "source": [
    "# Model Execution"
   ]
  },
  {
   "cell_type": "code",
   "execution_count": 161,
   "id": "972d07e4",
   "metadata": {},
   "outputs": [],
   "source": [
    "# Array for storing classifier and scores\n",
    "#https://stackoverflow.com/questions/50666091/true-positive-rate-and-false-positive-rate-tpr-fpr-for-multi-class-data-in-py/50671617\n",
    "def generate_result_metrics(name, y_true, y_prediction):\n",
    "    cnf_matrix = confusion_matrix(y_true, y_prediction)\n",
    "#     print(\"Confusion Matrix for {} Classifier\\n{}\\n\".format(name, cnf_matrix))\n",
    "    sns.heatmap(cnf_matrix/np.sum(cnf_matrix), annot=True, fmt='.2%', cmap='Blues')\n",
    "    #[[1 1 3]\n",
    "    # [3 2 2]\n",
    "    # [1 3 1]]\n",
    "#     print(cnf_matrix)\n",
    "    FP = cnf_matrix[0][0]  \n",
    "    FN = cnf_matrix[1][0]\n",
    "    TP = cnf_matrix[1][1]\n",
    "    TN = cnf_matrix[0][0]\n",
    "\n",
    "\n",
    "    FP = FP.astype(float)\n",
    "    FN = FN.astype(float)\n",
    "    TP = TP.astype(float)\n",
    "    TN = TN.astype(float)\n",
    "\n",
    "    # Sensitivity, hit rate, recall, or true positive rate\n",
    "    result = {}\n",
    "    result['Algorithm'] = name\n",
    "    TPR = TP/(TP+FN)\n",
    "    result['TPR'] = TPR\n",
    "    print(\"The True Positive Rate for {} is {}\".format(name, TPR))\n",
    "    \n",
    "    \n",
    "    # Specificity or true negative rate\n",
    "    TNR = TN/(TN+FP) \n",
    "    result['TNR'] = TNR\n",
    "    print(\"The True Negative Rate for {} is {}\".format(name, TNR))\n",
    "\n",
    "    \n",
    "    # Precision or positive predictive value\n",
    "    PPV = TP/(TP+FP)\n",
    "    result['PPV'] = PPV\n",
    "    print(\"The Precision or positive predictive value for {} is {}\".format(name, PPV))\n",
    "    \n",
    "    # Negative predictive value\n",
    "    NPV = TN/(TN+FN)\n",
    "    result['NPV'] = NPV\n",
    "    print(\"The Negative predictive value for {} is {}\".format(name, NPV))\n",
    "    \n",
    "\n",
    "    # Fall out or false positive rate\n",
    "    FPR = FP/(FP+TN)\n",
    "    result['FPR'] = FPR\n",
    "    print(\"The Fall out or false positive rate {} is {}\".format(name, FPR))\n",
    "\n",
    "    # False negative rate\n",
    "    FNR = FN/(TP+FN)\n",
    "    result['FNR'] = FNR\n",
    "    print(\"The False negative rate {} is {}\".format(name, FNR))\n",
    "\n",
    "    # False discovery rate\n",
    "    FDR = FP/(TP+FP)\n",
    "    result['FDR'] = FDR\n",
    "    print(\"The False discovery rate {} is {}\".format(name, FDR))\n",
    "    \n",
    "\n",
    "    # Overall accuracy\n",
    "    ACC = (TP+TN)/(TP+FP+FN+TN)\n",
    "    result['ACC'] = ACC\n",
    "    print(\"The Overall accuracy {} is {}\".format(name, ACC))\n",
    "    return result\n",
    "    \n"
   ]
  },
  {
   "cell_type": "code",
   "execution_count": 162,
   "id": "126a973c",
   "metadata": {},
   "outputs": [],
   "source": [
    "def decision_trees(train_feature, train_label, test_feature, test_label):\n",
    "    clf = tree.DecisionTreeClassifier(splitter = \"random\", criterion = \"entropy\", max_depth=15)\n",
    "    clf.fit(train_feature, train_label.values.ravel())\n",
    "    prediction = clf.predict(test_feature)\n",
    "    result = generate_result_metrics(\"Decision Tree\", test_label, prediction)\n",
    "    print(\"Feature Importance {}\".format(clf.feature_importances_))\n",
    "    return result\n"
   ]
  },
  {
   "cell_type": "code",
   "execution_count": 163,
   "id": "3422f219",
   "metadata": {},
   "outputs": [],
   "source": [
    "def logistic_classifier(train_feature, train_label, test_feature, test_label):\n",
    "    clf = LogisticRegression(max_iter=90)\n",
    "    clf.fit(train_feature, train_label.values.ravel())\n",
    "    prediction = clf.predict(test_feature)\n",
    "    result = generate_result_metrics(\"Decision Tree\", test_label, prediction)\n",
    "    return result\n"
   ]
  },
  {
   "cell_type": "code",
   "execution_count": 164,
   "id": "6a8bd8c5",
   "metadata": {},
   "outputs": [],
   "source": [
    "def random_forest_classifier(train_feature, train_label, test_feature, test_label):\n",
    "    clf = RandomForestClassifier(n_estimators=30)\n",
    "    clf.fit(train_feature, train_label.values.ravel())\n",
    "    prediction = clf.predict(test_feature)\n",
    "    result = generate_result_metrics(\"Decision Tree\", test_label, prediction)\n",
    "    print(\"Feature Importance {}\".format(clf.feature_importances_))\n",
    "    return result\n"
   ]
  },
  {
   "cell_type": "code",
   "execution_count": 172,
   "id": "2a71c32a",
   "metadata": {},
   "outputs": [],
   "source": [
    "def gaussian_naive_bayes_classifier(train_feature, train_label, test_feature, test_label):\n",
    "    clf = GaussianNB()\n",
    "    clf.fit(train_feature, train_label.values.ravel())\n",
    "    prediction = clf.predict(test_feature)\n",
    "    result = generate_result_metrics(\"Naive Bayes\", test_label, prediction)\n",
    "    return result\n"
   ]
  },
  {
   "cell_type": "markdown",
   "id": "674076eb",
   "metadata": {},
   "source": [
    "# Binary Classifier"
   ]
  },
  {
   "cell_type": "code",
   "execution_count": 166,
   "id": "c82b3503",
   "metadata": {},
   "outputs": [
    {
     "name": "stdout",
     "output_type": "stream",
     "text": [
      "(3281948, 31) (1616483, 31)\n",
      "(3281948,) (1616483,)\n"
     ]
    }
   ],
   "source": [
    "Y = df['label']\n",
    "X = df.drop(['label'], axis=1)\n",
    "sc = MinMaxScaler()\n",
    "X = sc.fit_transform(X)\n",
    "\n",
    "# Split test and train data \n",
    "X_train, X_test, Y_train, Y_test = train_test_split(X, Y, test_size=0.33, random_state=42)\n",
    "print(X_train.shape, X_test.shape)\n",
    "print(Y_train.shape, Y_test.shape)\n",
    "result_metric = []"
   ]
  },
  {
   "cell_type": "code",
   "execution_count": 167,
   "id": "609f68bf",
   "metadata": {},
   "outputs": [
    {
     "name": "stdout",
     "output_type": "stream",
     "text": [
      "The True Positive Rate for Decision Tree is 0.9998888427449049\n",
      "The True Negative Rate for Decision Tree is 0.5\n",
      "The Precision or positive predictive value for Decision Tree is 0.8014198043778333\n",
      "The Negative predictive value for Decision Tree is 0.9995515485588826\n",
      "The Fall out or false positive rate Decision Tree is 0.5\n",
      "The False negative rate Decision Tree is 0.00011115725509509349\n",
      "The False discovery rate Decision Tree is 0.19858019562216672\n",
      "The Overall accuracy Decision Tree is 0.8342584639906183\n",
      "Feature Importance [1.92018616e-04 2.30565477e-02 4.87094623e-02 2.17696463e-03\n",
      " 5.39903568e-04 0.00000000e+00 1.20415114e-04 1.31982050e-06\n",
      " 4.35207824e-03 1.14150082e-04 5.78361244e-01 7.15244280e-06\n",
      " 9.11418457e-06 0.00000000e+00 7.56797909e-06 7.16585485e-06\n",
      " 1.23879758e-05 0.00000000e+00 2.23876552e-05 3.14288838e-01\n",
      " 8.28000064e-05 1.49211094e-03 1.04271671e-03 8.52119430e-05\n",
      " 3.07169753e-05 1.24985618e-04 1.31813175e-02 1.44850784e-03\n",
      " 2.51073095e-03 1.79986151e-03 6.22232227e-03]\n"
     ]
    },
    {
     "data": {
      "image/png": "[encoded data removed]",
      "text/plain": [
       "<Figure size 432x288 with 2 Axes>"
      ]
     },
     "metadata": {
      "needs_background": "light"
     },
     "output_type": "display_data"
    }
   ],
   "source": [
    "result_metric.append(decision_trees(X_train, Y_train, X_test, Y_test))  "
   ]
  },
  {
   "cell_type": "code",
   "execution_count": 168,
   "id": "3a795c88",
   "metadata": {},
   "outputs": [
    {
     "name": "stderr",
     "output_type": "stream",
     "text": [
      "c:\\users\\arunh\\appdata\\local\\programs\\python\\python39\\lib\\site-packages\\sklearn\\linear_model\\_logistic.py:763: ConvergenceWarning: lbfgs failed to converge (status=1):\n",
      "STOP: TOTAL NO. of ITERATIONS REACHED LIMIT.\n",
      "\n",
      "Increase the number of iterations (max_iter) or scale the data as shown in:\n",
      "    https://scikit-learn.org/stable/modules/preprocessing.html\n",
      "Please also refer to the documentation for alternative solver options:\n",
      "    https://scikit-learn.org/stable/modules/linear_model.html#logistic-regression\n",
      "  n_iter_i = _check_optimize_result(\n"
     ]
    },
    {
     "name": "stdout",
     "output_type": "stream",
     "text": [
      "The True Positive Rate for Decision Tree is 0.9980508884089229\n",
      "The True Negative Rate for Decision Tree is 0.5\n",
      "The Precision or positive predictive value for Decision Tree is 0.8015241479438943\n",
      "The Negative predictive value for Decision Tree is 0.9921750556268323\n",
      "The Fall out or false positive rate Decision Tree is 0.5\n",
      "The False negative rate Decision Tree is 0.0019491115910771602\n",
      "The False discovery rate Decision Tree is 0.1984758520561057\n",
      "The Overall accuracy Decision Tree is 0.8333047488769408\n"
     ]
    },
    {
     "ename": "AttributeError",
     "evalue": "'LogisticRegression' object has no attribute 'feature_importances_'",
     "output_type": "error",
     "traceback": [
      "\u001b[1;31m---------------------------------------------------------------------------\u001b[0m",
      "\u001b[1;31mAttributeError\u001b[0m                            Traceback (most recent call last)",
      "\u001b[1;32m<ipython-input-168-3ccfc59a698a>\u001b[0m in \u001b[0;36m<module>\u001b[1;34m\u001b[0m\n\u001b[1;32m----> 1\u001b[1;33m \u001b[0mresult_metric\u001b[0m\u001b[1;33m.\u001b[0m\u001b[0mappend\u001b[0m\u001b[1;33m(\u001b[0m\u001b[0mlogistic_classifier\u001b[0m\u001b[1;33m(\u001b[0m\u001b[0mX_train\u001b[0m\u001b[1;33m,\u001b[0m \u001b[0mY_train\u001b[0m\u001b[1;33m,\u001b[0m \u001b[0mX_test\u001b[0m\u001b[1;33m,\u001b[0m \u001b[0mY_test\u001b[0m\u001b[1;33m)\u001b[0m\u001b[1;33m)\u001b[0m\u001b[1;33m\u001b[0m\u001b[1;33m\u001b[0m\u001b[0m\n\u001b[0m",
      "\u001b[1;32m<ipython-input-163-78b1ee884f56>\u001b[0m in \u001b[0;36mlogistic_classifier\u001b[1;34m(train_feature, train_label, test_feature, test_label)\u001b[0m\n\u001b[0;32m      4\u001b[0m     \u001b[0mprediction\u001b[0m \u001b[1;33m=\u001b[0m \u001b[0mclf\u001b[0m\u001b[1;33m.\u001b[0m\u001b[0mpredict\u001b[0m\u001b[1;33m(\u001b[0m\u001b[0mtest_feature\u001b[0m\u001b[1;33m)\u001b[0m\u001b[1;33m\u001b[0m\u001b[1;33m\u001b[0m\u001b[0m\n\u001b[0;32m      5\u001b[0m     \u001b[0mresult\u001b[0m \u001b[1;33m=\u001b[0m \u001b[0mgenerate_result_metrics\u001b[0m\u001b[1;33m(\u001b[0m\u001b[1;34m\"Decision Tree\"\u001b[0m\u001b[1;33m,\u001b[0m \u001b[0mtest_label\u001b[0m\u001b[1;33m,\u001b[0m \u001b[0mprediction\u001b[0m\u001b[1;33m)\u001b[0m\u001b[1;33m\u001b[0m\u001b[1;33m\u001b[0m\u001b[0m\n\u001b[1;32m----> 6\u001b[1;33m     \u001b[0mprint\u001b[0m\u001b[1;33m(\u001b[0m\u001b[1;34m\"Feature Importance {}\"\u001b[0m\u001b[1;33m.\u001b[0m\u001b[0mformat\u001b[0m\u001b[1;33m(\u001b[0m\u001b[0mclf\u001b[0m\u001b[1;33m.\u001b[0m\u001b[0mfeature_importances_\u001b[0m\u001b[1;33m)\u001b[0m\u001b[1;33m)\u001b[0m\u001b[1;33m\u001b[0m\u001b[1;33m\u001b[0m\u001b[0m\n\u001b[0m\u001b[0;32m      7\u001b[0m     \u001b[1;32mreturn\u001b[0m \u001b[0mresult\u001b[0m\u001b[1;33m\u001b[0m\u001b[1;33m\u001b[0m\u001b[0m\n",
      "\u001b[1;31mAttributeError\u001b[0m: 'LogisticRegression' object has no attribute 'feature_importances_'"
     ]
    },
    {
     "data": {
      "image/png": "[encoded data removed]",
      "text/plain": [
       "<Figure size 432x288 with 2 Axes>"
      ]
     },
     "metadata": {
      "needs_background": "light"
     },
     "output_type": "display_data"
    }
   ],
   "source": [
    "result_metric.append(logistic_classifier(X_train, Y_train, X_test, Y_test))"
   ]
  },
  {
   "cell_type": "code",
   "execution_count": 169,
   "id": "6991e227",
   "metadata": {},
   "outputs": [
    {
     "name": "stdout",
     "output_type": "stream",
     "text": [
      "The True Positive Rate for Decision Tree is 0.9998973339241135\n",
      "The True Negative Rate for Decision Tree is 0.5\n",
      "The Precision or positive predictive value for Decision Tree is 0.8014117350085905\n",
      "The Negative predictive value for Decision Tree is 0.9995858155851678\n",
      "The Fall out or false positive rate Decision Tree is 0.5\n",
      "The False negative rate Decision Tree is 0.00010266607588644052\n",
      "The False discovery rate Decision Tree is 0.19858826499140944\n",
      "The Overall accuracy Decision Tree is 0.834257585595704\n",
      "Feature Importance [7.53719335e-03 6.52775653e-02 6.31412991e-02 2.68652828e-03\n",
      " 3.52791235e-04 2.75373084e-06 4.52096132e-04 7.15406456e-07\n",
      " 6.25874757e-04 2.95028024e-05 1.46906455e-01 7.56438983e-04\n",
      " 5.71803664e-06 1.62982476e-06 1.21995791e-05 1.65858016e-06\n",
      " 3.58917641e-06 5.31190181e-09 6.49269776e-05 2.40368836e-01\n",
      " 7.89253267e-02 7.19990715e-03 4.66098450e-03 5.80481854e-02\n",
      " 3.56582261e-02 1.42379507e-02 1.08490611e-01 1.08865914e-02\n",
      " 6.92842269e-02 4.99179361e-02 3.44622769e-02]\n"
     ]
    },
    {
     "data": {
      "image/png": "[encoded data removed]",
      "text/plain": [
       "<Figure size 432x288 with 2 Axes>"
      ]
     },
     "metadata": {
      "needs_background": "light"
     },
     "output_type": "display_data"
    }
   ],
   "source": [
    "result_metric.append(random_forest_classifier(X_train, Y_train, X_test, Y_test))"
   ]
  },
  {
   "cell_type": "code",
   "execution_count": 173,
   "id": "675fd8de",
   "metadata": {},
   "outputs": [
    {
     "name": "stdout",
     "output_type": "stream",
     "text": [
      "The True Positive Rate for Naive Bayes is 0.9934973005769371\n",
      "The True Negative Rate for Naive Bayes is 0.5\n",
      "The Precision or positive predictive value for Naive Bayes is 0.8207799794268995\n",
      "The Negative predictive value for Naive Bayes is 0.9708968295370923\n",
      "The Fall out or false positive rate Naive Bayes is 0.5\n",
      "The False negative rate Naive Bayes is 0.006502699423062969\n",
      "The False discovery rate Naive Bayes is 0.17922002057310052\n",
      "The Overall accuracy Naive Bayes is 0.8441723373099617\n"
     ]
    },
    {
     "data": {
      "image/png": "[encoded data removed]",
      "text/plain": [
       "<Figure size 432x288 with 2 Axes>"
      ]
     },
     "metadata": {
      "needs_background": "light"
     },
     "output_type": "display_data"
    }
   ],
   "source": [
    "result_metric.append(gaussian_naive_bayes_classifier(X_train, Y_train, X_test, Y_test))"
   ]
  },
  {
   "cell_type": "code",
   "execution_count": 174,
   "id": "40f9e763",
   "metadata": {},
   "outputs": [
    {
     "data": {
      "text/html": [
       "<div>\n",
       "<style scoped>\n",
       "    .dataframe tbody tr th:only-of-type {\n",
       "        vertical-align: middle;\n",
       "    }\n",
       "\n",
       "    .dataframe tbody tr th {\n",
       "        vertical-align: top;\n",
       "    }\n",
       "\n",
       "    .dataframe thead th {\n",
       "        text-align: right;\n",
       "    }\n",
       "</style>\n",
       "<table border=\"1\" class=\"dataframe\">\n",
       "  <thead>\n",
       "    <tr style=\"text-align: right;\">\n",
       "      <th></th>\n",
       "      <th>Algorithm</th>\n",
       "      <th>TPR</th>\n",
       "      <th>TNR</th>\n",
       "      <th>PPV</th>\n",
       "      <th>NPV</th>\n",
       "      <th>FPR</th>\n",
       "      <th>FNR</th>\n",
       "      <th>FDR</th>\n",
       "      <th>ACC</th>\n",
       "    </tr>\n",
       "  </thead>\n",
       "  <tbody>\n",
       "    <tr>\n",
       "      <th>0</th>\n",
       "      <td>Decision Tree</td>\n",
       "      <td>0.999889</td>\n",
       "      <td>0.5</td>\n",
       "      <td>0.801420</td>\n",
       "      <td>0.999552</td>\n",
       "      <td>0.5</td>\n",
       "      <td>0.000111</td>\n",
       "      <td>0.198580</td>\n",
       "      <td>0.834258</td>\n",
       "    </tr>\n",
       "    <tr>\n",
       "      <th>1</th>\n",
       "      <td>Decision Tree</td>\n",
       "      <td>0.999897</td>\n",
       "      <td>0.5</td>\n",
       "      <td>0.801412</td>\n",
       "      <td>0.999586</td>\n",
       "      <td>0.5</td>\n",
       "      <td>0.000103</td>\n",
       "      <td>0.198588</td>\n",
       "      <td>0.834258</td>\n",
       "    </tr>\n",
       "    <tr>\n",
       "      <th>2</th>\n",
       "      <td>Naive Bayes</td>\n",
       "      <td>0.993497</td>\n",
       "      <td>0.5</td>\n",
       "      <td>0.820780</td>\n",
       "      <td>0.970897</td>\n",
       "      <td>0.5</td>\n",
       "      <td>0.006503</td>\n",
       "      <td>0.179220</td>\n",
       "      <td>0.844172</td>\n",
       "    </tr>\n",
       "  </tbody>\n",
       "</table>\n",
       "</div>"
      ],
      "text/plain": [
       "       Algorithm       TPR  TNR       PPV       NPV  FPR       FNR       FDR  \\\n",
       "0  Decision Tree  0.999889  0.5  0.801420  0.999552  0.5  0.000111  0.198580   \n",
       "1  Decision Tree  0.999897  0.5  0.801412  0.999586  0.5  0.000103  0.198588   \n",
       "2    Naive Bayes  0.993497  0.5  0.820780  0.970897  0.5  0.006503  0.179220   \n",
       "\n",
       "        ACC  \n",
       "0  0.834258  \n",
       "1  0.834258  \n",
       "2  0.844172  "
      ]
     },
     "execution_count": 174,
     "metadata": {},
     "output_type": "execute_result"
    }
   ],
   "source": [
    "pd.DataFrame(result_metric)"
   ]
  },
  {
   "cell_type": "code",
   "execution_count": null,
   "id": "c2bf86f2",
   "metadata": {},
   "outputs": [],
   "source": []
  }
 ],
 "metadata": {
  "kernelspec": {
   "display_name": "Python 3",
   "language": "python",
   "name": "python3"
  },
  "language_info": {
   "codemirror_mode": {
    "name": "ipython",
    "version": 3
   },
   "file_extension": ".py",
   "mimetype": "text/x-python",
   "name": "python",
   "nbconvert_exporter": "python",
   "pygments_lexer": "ipython3",
   "version": "3.9.1"
  }
 },
 "nbformat": 4,
 "nbformat_minor": 5
}
