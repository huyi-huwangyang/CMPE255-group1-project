{
 "cells": [
  {
   "cell_type": "code",
   "execution_count": 86,
   "metadata": {},
   "outputs": [],
   "source": [
    "import pandas as pd\n",
    "import numpy as np\n",
    "import requests\n",
    "import seaborn as sns\n",
    "import matplotlib.pyplot as plt\n",
    "from sklearn.model_selection import train_test_split\n",
    "from sklearn.preprocessing import MinMaxScaler\n",
    "from sklearn.preprocessing import LabelEncoder\n",
    "from sklearn import tree\n",
    "from sklearn.linear_model import LogisticRegression\n",
    "from sklearn.ensemble import RandomForestClassifier\n",
    "from sklearn.naive_bayes import GaussianNB\n",
    "from sklearn import metrics\n",
    "from sklearn.metrics import accuracy_score\n",
    "from sklearn.metrics import confusion_matrix\n",
    "from sklearn.metrics import classification_report\n",
    "from sklearn.metrics import roc_curve\n",
    "from sklearn.metrics import auc\n",
    "import warnings\n",
    "warnings.filterwarnings(\"ignore\")"
   ]
  },
  {
   "cell_type": "markdown",
   "metadata": {},
   "source": [
    "### Data Importation"
   ]
  },
  {
   "cell_type": "code",
   "execution_count": 2,
   "metadata": {},
   "outputs": [],
   "source": [
    "col_names = [\"duration\",\"protocol_type\",\"service\",\"flag\",\"src_bytes\",\n",
    "             \"dst_bytes\",\"land\",\"wrong_fragment\",\"urgent\",\"hot\",\"num_failed_logins\",\n",
    "             \"logged_in\",\"num_compromised\",\"root_shell\",\"su_attempted\",\"num_root\",\n",
    "             \"num_file_creations\",\"num_shells\",\"num_access_files\",\"num_outbound_cmds\",\n",
    "             \"is_host_login\",\"is_guest_login\",\"count\",\"srv_count\",\"serror_rate\",\n",
    "             \"srv_serror_rate\",\"rerror_rate\",\"srv_rerror_rate\",\"same_srv_rate\",\n",
    "             \"diff_srv_rate\",\"srv_diff_host_rate\",\"dst_host_count\",\"dst_host_srv_count\",\n",
    "             \"dst_host_same_srv_rate\",\"dst_host_diff_srv_rate\",\"dst_host_same_src_port_rate\",\n",
    "             \"dst_host_srv_diff_host_rate\",\"dst_host_serror_rate\",\"dst_host_srv_serror_rate\",\n",
    "             \"dst_host_rerror_rate\",\"dst_host_srv_rerror_rate\",\"label\"]"
   ]
  },
  {
   "cell_type": "code",
   "execution_count": 29,
   "metadata": {},
   "outputs": [],
   "source": [
    "kdd_data_set = 'http://kdd.ics.uci.edu/databases/kddcup99/kddcup.data.gz'\n",
    "kdd_attack_types = 'http://kdd.ics.uci.edu/databases/kddcup99/training_attack_types'\n",
    "kdd_test_data = 'http://kdd.ics.uci.edu/databases/kddcup99/corrected.gz'"
   ]
  },
  {
   "cell_type": "code",
   "execution_count": 30,
   "metadata": {},
   "outputs": [],
   "source": [
    "df_kdd_data = pd.read_csv(kdd_data_set, header=None, names = col_names)\n",
    "df_kdd_test_data = pd.read_csv(kdd_test_data, header=None, names = col_names)"
   ]
  },
  {
   "cell_type": "code",
   "execution_count": 31,
   "metadata": {},
   "outputs": [
    {
     "name": "stdout",
     "output_type": "stream",
     "text": [
      "{'back': 'dos', 'dos': 'warezclient', 'buffer_overflow': 'u2r', 'u2r': 'satan', 'ftp_write': 'r2l', 'r2l': 'warezmaster', 'guess_passwd': 'r2l', 'imap': 'r2l', 'ipsweep': 'probe', 'probe': 'smurf', 'land': 'dos', 'loadmodule': 'u2r', 'multihop': 'r2l', 'neptune': 'dos', 'nmap': 'probe', 'perl': 'u2r', 'phf': 'r2l', 'pod': 'dos', 'portsweep': 'probe', 'rootkit': 'u2r', 'satan': 'probe', 'smurf': 'dos', 'spy': 'r2l', 'teardrop': 'dos', 'warezclient': 'r2l', 'warezmaster': 'r2l', 'normal': 'normal'}\n"
     ]
    }
   ],
   "source": [
    "types = requests.get(kdd_attack_types)\n",
    "attack_dict = {}\n",
    "types_text_split = types.text.split()\n",
    "for idx in range(0, len(types_text_split)):\n",
    "    if idx < len(types_text_split) -1:\n",
    "        attack_dict[types_text_split[idx]] = types_text_split[idx+1]\n",
    "attack_dict['normal'] = 'normal'\n",
    "print(attack_dict)"
   ]
  },
  {
   "cell_type": "code",
   "execution_count": 32,
   "metadata": {},
   "outputs": [
    {
     "data": {
      "text/html": [
       "<div>\n",
       "<style scoped>\n",
       "    .dataframe tbody tr th:only-of-type {\n",
       "        vertical-align: middle;\n",
       "    }\n",
       "\n",
       "    .dataframe tbody tr th {\n",
       "        vertical-align: top;\n",
       "    }\n",
       "\n",
       "    .dataframe thead th {\n",
       "        text-align: right;\n",
       "    }\n",
       "</style>\n",
       "<table border=\"1\" class=\"dataframe\">\n",
       "  <thead>\n",
       "    <tr style=\"text-align: right;\">\n",
       "      <th></th>\n",
       "      <th>duration</th>\n",
       "      <th>src_bytes</th>\n",
       "      <th>dst_bytes</th>\n",
       "      <th>land</th>\n",
       "      <th>wrong_fragment</th>\n",
       "      <th>urgent</th>\n",
       "      <th>hot</th>\n",
       "      <th>num_failed_logins</th>\n",
       "      <th>logged_in</th>\n",
       "      <th>num_compromised</th>\n",
       "      <th>...</th>\n",
       "      <th>dst_host_count</th>\n",
       "      <th>dst_host_srv_count</th>\n",
       "      <th>dst_host_same_srv_rate</th>\n",
       "      <th>dst_host_diff_srv_rate</th>\n",
       "      <th>dst_host_same_src_port_rate</th>\n",
       "      <th>dst_host_srv_diff_host_rate</th>\n",
       "      <th>dst_host_serror_rate</th>\n",
       "      <th>dst_host_srv_serror_rate</th>\n",
       "      <th>dst_host_rerror_rate</th>\n",
       "      <th>dst_host_srv_rerror_rate</th>\n",
       "    </tr>\n",
       "  </thead>\n",
       "  <tbody>\n",
       "    <tr>\n",
       "      <td>count</td>\n",
       "      <td>4.898431e+06</td>\n",
       "      <td>4.898431e+06</td>\n",
       "      <td>4.898431e+06</td>\n",
       "      <td>4.898431e+06</td>\n",
       "      <td>4.898431e+06</td>\n",
       "      <td>4.898431e+06</td>\n",
       "      <td>4.898431e+06</td>\n",
       "      <td>4.898431e+06</td>\n",
       "      <td>4.898431e+06</td>\n",
       "      <td>4.898431e+06</td>\n",
       "      <td>...</td>\n",
       "      <td>4.898431e+06</td>\n",
       "      <td>4.898431e+06</td>\n",
       "      <td>4.898431e+06</td>\n",
       "      <td>4.898431e+06</td>\n",
       "      <td>4.898431e+06</td>\n",
       "      <td>4.898431e+06</td>\n",
       "      <td>4.898431e+06</td>\n",
       "      <td>4.898431e+06</td>\n",
       "      <td>4.898431e+06</td>\n",
       "      <td>4.898431e+06</td>\n",
       "    </tr>\n",
       "    <tr>\n",
       "      <td>mean</td>\n",
       "      <td>4.834243e+01</td>\n",
       "      <td>1.834621e+03</td>\n",
       "      <td>1.093623e+03</td>\n",
       "      <td>5.716116e-06</td>\n",
       "      <td>6.487792e-04</td>\n",
       "      <td>7.961733e-06</td>\n",
       "      <td>1.243766e-02</td>\n",
       "      <td>3.205108e-05</td>\n",
       "      <td>1.435290e-01</td>\n",
       "      <td>8.088304e-03</td>\n",
       "      <td>...</td>\n",
       "      <td>2.329811e+02</td>\n",
       "      <td>1.892142e+02</td>\n",
       "      <td>7.537132e-01</td>\n",
       "      <td>3.071111e-02</td>\n",
       "      <td>6.050520e-01</td>\n",
       "      <td>6.464107e-03</td>\n",
       "      <td>1.780911e-01</td>\n",
       "      <td>1.778859e-01</td>\n",
       "      <td>5.792780e-02</td>\n",
       "      <td>5.765941e-02</td>\n",
       "    </tr>\n",
       "    <tr>\n",
       "      <td>std</td>\n",
       "      <td>7.233298e+02</td>\n",
       "      <td>9.414311e+05</td>\n",
       "      <td>6.450123e+05</td>\n",
       "      <td>2.390833e-03</td>\n",
       "      <td>4.285434e-02</td>\n",
       "      <td>7.215084e-03</td>\n",
       "      <td>4.689782e-01</td>\n",
       "      <td>7.299408e-03</td>\n",
       "      <td>3.506116e-01</td>\n",
       "      <td>3.856481e+00</td>\n",
       "      <td>...</td>\n",
       "      <td>6.402094e+01</td>\n",
       "      <td>1.059128e+02</td>\n",
       "      <td>4.111860e-01</td>\n",
       "      <td>1.085432e-01</td>\n",
       "      <td>4.809877e-01</td>\n",
       "      <td>4.125978e-02</td>\n",
       "      <td>3.818382e-01</td>\n",
       "      <td>3.821774e-01</td>\n",
       "      <td>2.309428e-01</td>\n",
       "      <td>2.309777e-01</td>\n",
       "    </tr>\n",
       "    <tr>\n",
       "      <td>min</td>\n",
       "      <td>0.000000e+00</td>\n",
       "      <td>0.000000e+00</td>\n",
       "      <td>0.000000e+00</td>\n",
       "      <td>0.000000e+00</td>\n",
       "      <td>0.000000e+00</td>\n",
       "      <td>0.000000e+00</td>\n",
       "      <td>0.000000e+00</td>\n",
       "      <td>0.000000e+00</td>\n",
       "      <td>0.000000e+00</td>\n",
       "      <td>0.000000e+00</td>\n",
       "      <td>...</td>\n",
       "      <td>0.000000e+00</td>\n",
       "      <td>0.000000e+00</td>\n",
       "      <td>0.000000e+00</td>\n",
       "      <td>0.000000e+00</td>\n",
       "      <td>0.000000e+00</td>\n",
       "      <td>0.000000e+00</td>\n",
       "      <td>0.000000e+00</td>\n",
       "      <td>0.000000e+00</td>\n",
       "      <td>0.000000e+00</td>\n",
       "      <td>0.000000e+00</td>\n",
       "    </tr>\n",
       "    <tr>\n",
       "      <td>25%</td>\n",
       "      <td>0.000000e+00</td>\n",
       "      <td>4.500000e+01</td>\n",
       "      <td>0.000000e+00</td>\n",
       "      <td>0.000000e+00</td>\n",
       "      <td>0.000000e+00</td>\n",
       "      <td>0.000000e+00</td>\n",
       "      <td>0.000000e+00</td>\n",
       "      <td>0.000000e+00</td>\n",
       "      <td>0.000000e+00</td>\n",
       "      <td>0.000000e+00</td>\n",
       "      <td>...</td>\n",
       "      <td>2.550000e+02</td>\n",
       "      <td>4.900000e+01</td>\n",
       "      <td>4.100000e-01</td>\n",
       "      <td>0.000000e+00</td>\n",
       "      <td>0.000000e+00</td>\n",
       "      <td>0.000000e+00</td>\n",
       "      <td>0.000000e+00</td>\n",
       "      <td>0.000000e+00</td>\n",
       "      <td>0.000000e+00</td>\n",
       "      <td>0.000000e+00</td>\n",
       "    </tr>\n",
       "    <tr>\n",
       "      <td>50%</td>\n",
       "      <td>0.000000e+00</td>\n",
       "      <td>5.200000e+02</td>\n",
       "      <td>0.000000e+00</td>\n",
       "      <td>0.000000e+00</td>\n",
       "      <td>0.000000e+00</td>\n",
       "      <td>0.000000e+00</td>\n",
       "      <td>0.000000e+00</td>\n",
       "      <td>0.000000e+00</td>\n",
       "      <td>0.000000e+00</td>\n",
       "      <td>0.000000e+00</td>\n",
       "      <td>...</td>\n",
       "      <td>2.550000e+02</td>\n",
       "      <td>2.550000e+02</td>\n",
       "      <td>1.000000e+00</td>\n",
       "      <td>0.000000e+00</td>\n",
       "      <td>1.000000e+00</td>\n",
       "      <td>0.000000e+00</td>\n",
       "      <td>0.000000e+00</td>\n",
       "      <td>0.000000e+00</td>\n",
       "      <td>0.000000e+00</td>\n",
       "      <td>0.000000e+00</td>\n",
       "    </tr>\n",
       "    <tr>\n",
       "      <td>75%</td>\n",
       "      <td>0.000000e+00</td>\n",
       "      <td>1.032000e+03</td>\n",
       "      <td>0.000000e+00</td>\n",
       "      <td>0.000000e+00</td>\n",
       "      <td>0.000000e+00</td>\n",
       "      <td>0.000000e+00</td>\n",
       "      <td>0.000000e+00</td>\n",
       "      <td>0.000000e+00</td>\n",
       "      <td>0.000000e+00</td>\n",
       "      <td>0.000000e+00</td>\n",
       "      <td>...</td>\n",
       "      <td>2.550000e+02</td>\n",
       "      <td>2.550000e+02</td>\n",
       "      <td>1.000000e+00</td>\n",
       "      <td>4.000000e-02</td>\n",
       "      <td>1.000000e+00</td>\n",
       "      <td>0.000000e+00</td>\n",
       "      <td>0.000000e+00</td>\n",
       "      <td>0.000000e+00</td>\n",
       "      <td>0.000000e+00</td>\n",
       "      <td>0.000000e+00</td>\n",
       "    </tr>\n",
       "    <tr>\n",
       "      <td>max</td>\n",
       "      <td>5.832900e+04</td>\n",
       "      <td>1.379964e+09</td>\n",
       "      <td>1.309937e+09</td>\n",
       "      <td>1.000000e+00</td>\n",
       "      <td>3.000000e+00</td>\n",
       "      <td>1.400000e+01</td>\n",
       "      <td>7.700000e+01</td>\n",
       "      <td>5.000000e+00</td>\n",
       "      <td>1.000000e+00</td>\n",
       "      <td>7.479000e+03</td>\n",
       "      <td>...</td>\n",
       "      <td>2.550000e+02</td>\n",
       "      <td>2.550000e+02</td>\n",
       "      <td>1.000000e+00</td>\n",
       "      <td>1.000000e+00</td>\n",
       "      <td>1.000000e+00</td>\n",
       "      <td>1.000000e+00</td>\n",
       "      <td>1.000000e+00</td>\n",
       "      <td>1.000000e+00</td>\n",
       "      <td>1.000000e+00</td>\n",
       "      <td>1.000000e+00</td>\n",
       "    </tr>\n",
       "  </tbody>\n",
       "</table>\n",
       "<p>8 rows × 38 columns</p>\n",
       "</div>"
      ],
      "text/plain": [
       "           duration     src_bytes     dst_bytes          land  wrong_fragment  \\\n",
       "count  4.898431e+06  4.898431e+06  4.898431e+06  4.898431e+06    4.898431e+06   \n",
       "mean   4.834243e+01  1.834621e+03  1.093623e+03  5.716116e-06    6.487792e-04   \n",
       "std    7.233298e+02  9.414311e+05  6.450123e+05  2.390833e-03    4.285434e-02   \n",
       "min    0.000000e+00  0.000000e+00  0.000000e+00  0.000000e+00    0.000000e+00   \n",
       "25%    0.000000e+00  4.500000e+01  0.000000e+00  0.000000e+00    0.000000e+00   \n",
       "50%    0.000000e+00  5.200000e+02  0.000000e+00  0.000000e+00    0.000000e+00   \n",
       "75%    0.000000e+00  1.032000e+03  0.000000e+00  0.000000e+00    0.000000e+00   \n",
       "max    5.832900e+04  1.379964e+09  1.309937e+09  1.000000e+00    3.000000e+00   \n",
       "\n",
       "             urgent           hot  num_failed_logins     logged_in  \\\n",
       "count  4.898431e+06  4.898431e+06       4.898431e+06  4.898431e+06   \n",
       "mean   7.961733e-06  1.243766e-02       3.205108e-05  1.435290e-01   \n",
       "std    7.215084e-03  4.689782e-01       7.299408e-03  3.506116e-01   \n",
       "min    0.000000e+00  0.000000e+00       0.000000e+00  0.000000e+00   \n",
       "25%    0.000000e+00  0.000000e+00       0.000000e+00  0.000000e+00   \n",
       "50%    0.000000e+00  0.000000e+00       0.000000e+00  0.000000e+00   \n",
       "75%    0.000000e+00  0.000000e+00       0.000000e+00  0.000000e+00   \n",
       "max    1.400000e+01  7.700000e+01       5.000000e+00  1.000000e+00   \n",
       "\n",
       "       num_compromised  ...  dst_host_count  dst_host_srv_count  \\\n",
       "count     4.898431e+06  ...    4.898431e+06        4.898431e+06   \n",
       "mean      8.088304e-03  ...    2.329811e+02        1.892142e+02   \n",
       "std       3.856481e+00  ...    6.402094e+01        1.059128e+02   \n",
       "min       0.000000e+00  ...    0.000000e+00        0.000000e+00   \n",
       "25%       0.000000e+00  ...    2.550000e+02        4.900000e+01   \n",
       "50%       0.000000e+00  ...    2.550000e+02        2.550000e+02   \n",
       "75%       0.000000e+00  ...    2.550000e+02        2.550000e+02   \n",
       "max       7.479000e+03  ...    2.550000e+02        2.550000e+02   \n",
       "\n",
       "       dst_host_same_srv_rate  dst_host_diff_srv_rate  \\\n",
       "count            4.898431e+06            4.898431e+06   \n",
       "mean             7.537132e-01            3.071111e-02   \n",
       "std              4.111860e-01            1.085432e-01   \n",
       "min              0.000000e+00            0.000000e+00   \n",
       "25%              4.100000e-01            0.000000e+00   \n",
       "50%              1.000000e+00            0.000000e+00   \n",
       "75%              1.000000e+00            4.000000e-02   \n",
       "max              1.000000e+00            1.000000e+00   \n",
       "\n",
       "       dst_host_same_src_port_rate  dst_host_srv_diff_host_rate  \\\n",
       "count                 4.898431e+06                 4.898431e+06   \n",
       "mean                  6.050520e-01                 6.464107e-03   \n",
       "std                   4.809877e-01                 4.125978e-02   \n",
       "min                   0.000000e+00                 0.000000e+00   \n",
       "25%                   0.000000e+00                 0.000000e+00   \n",
       "50%                   1.000000e+00                 0.000000e+00   \n",
       "75%                   1.000000e+00                 0.000000e+00   \n",
       "max                   1.000000e+00                 1.000000e+00   \n",
       "\n",
       "       dst_host_serror_rate  dst_host_srv_serror_rate  dst_host_rerror_rate  \\\n",
       "count          4.898431e+06              4.898431e+06          4.898431e+06   \n",
       "mean           1.780911e-01              1.778859e-01          5.792780e-02   \n",
       "std            3.818382e-01              3.821774e-01          2.309428e-01   \n",
       "min            0.000000e+00              0.000000e+00          0.000000e+00   \n",
       "25%            0.000000e+00              0.000000e+00          0.000000e+00   \n",
       "50%            0.000000e+00              0.000000e+00          0.000000e+00   \n",
       "75%            0.000000e+00              0.000000e+00          0.000000e+00   \n",
       "max            1.000000e+00              1.000000e+00          1.000000e+00   \n",
       "\n",
       "       dst_host_srv_rerror_rate  \n",
       "count              4.898431e+06  \n",
       "mean               5.765941e-02  \n",
       "std                2.309777e-01  \n",
       "min                0.000000e+00  \n",
       "25%                0.000000e+00  \n",
       "50%                0.000000e+00  \n",
       "75%                0.000000e+00  \n",
       "max                1.000000e+00  \n",
       "\n",
       "[8 rows x 38 columns]"
      ]
     },
     "execution_count": 32,
     "metadata": {},
     "output_type": "execute_result"
    }
   ],
   "source": [
    "df_kdd_data.describe()"
   ]
  },
  {
   "cell_type": "code",
   "execution_count": 33,
   "metadata": {},
   "outputs": [
    {
     "data": {
      "text/html": [
       "<div>\n",
       "<style scoped>\n",
       "    .dataframe tbody tr th:only-of-type {\n",
       "        vertical-align: middle;\n",
       "    }\n",
       "\n",
       "    .dataframe tbody tr th {\n",
       "        vertical-align: top;\n",
       "    }\n",
       "\n",
       "    .dataframe thead th {\n",
       "        text-align: right;\n",
       "    }\n",
       "</style>\n",
       "<table border=\"1\" class=\"dataframe\">\n",
       "  <thead>\n",
       "    <tr style=\"text-align: right;\">\n",
       "      <th></th>\n",
       "      <th>duration</th>\n",
       "      <th>src_bytes</th>\n",
       "      <th>dst_bytes</th>\n",
       "      <th>land</th>\n",
       "      <th>wrong_fragment</th>\n",
       "      <th>urgent</th>\n",
       "      <th>hot</th>\n",
       "      <th>num_failed_logins</th>\n",
       "      <th>logged_in</th>\n",
       "      <th>num_compromised</th>\n",
       "      <th>...</th>\n",
       "      <th>dst_host_count</th>\n",
       "      <th>dst_host_srv_count</th>\n",
       "      <th>dst_host_same_srv_rate</th>\n",
       "      <th>dst_host_diff_srv_rate</th>\n",
       "      <th>dst_host_same_src_port_rate</th>\n",
       "      <th>dst_host_srv_diff_host_rate</th>\n",
       "      <th>dst_host_serror_rate</th>\n",
       "      <th>dst_host_srv_serror_rate</th>\n",
       "      <th>dst_host_rerror_rate</th>\n",
       "      <th>dst_host_srv_rerror_rate</th>\n",
       "    </tr>\n",
       "  </thead>\n",
       "  <tbody>\n",
       "    <tr>\n",
       "      <td>count</td>\n",
       "      <td>311029.000000</td>\n",
       "      <td>3.110290e+05</td>\n",
       "      <td>3.110290e+05</td>\n",
       "      <td>311029.000000</td>\n",
       "      <td>311029.000000</td>\n",
       "      <td>311029.000000</td>\n",
       "      <td>311029.000000</td>\n",
       "      <td>311029.000000</td>\n",
       "      <td>311029.000000</td>\n",
       "      <td>311029.000000</td>\n",
       "      <td>...</td>\n",
       "      <td>311029.000000</td>\n",
       "      <td>311029.000000</td>\n",
       "      <td>311029.000000</td>\n",
       "      <td>311029.000000</td>\n",
       "      <td>311029.000000</td>\n",
       "      <td>311029.000000</td>\n",
       "      <td>311029.000000</td>\n",
       "      <td>311029.000000</td>\n",
       "      <td>311029.000000</td>\n",
       "      <td>311029.000000</td>\n",
       "    </tr>\n",
       "    <tr>\n",
       "      <td>mean</td>\n",
       "      <td>17.902736</td>\n",
       "      <td>1.731702e+03</td>\n",
       "      <td>7.479937e+02</td>\n",
       "      <td>0.000029</td>\n",
       "      <td>0.000762</td>\n",
       "      <td>0.000051</td>\n",
       "      <td>0.014677</td>\n",
       "      <td>0.002363</td>\n",
       "      <td>0.172476</td>\n",
       "      <td>0.011243</td>\n",
       "      <td>...</td>\n",
       "      <td>235.282681</td>\n",
       "      <td>199.193914</td>\n",
       "      <td>0.793494</td>\n",
       "      <td>0.024953</td>\n",
       "      <td>0.547919</td>\n",
       "      <td>0.004566</td>\n",
       "      <td>0.058764</td>\n",
       "      <td>0.058791</td>\n",
       "      <td>0.142659</td>\n",
       "      <td>0.141693</td>\n",
       "    </tr>\n",
       "    <tr>\n",
       "      <td>std</td>\n",
       "      <td>407.644400</td>\n",
       "      <td>1.276567e+05</td>\n",
       "      <td>1.612018e+04</td>\n",
       "      <td>0.005379</td>\n",
       "      <td>0.040367</td>\n",
       "      <td>0.009821</td>\n",
       "      <td>0.312068</td>\n",
       "      <td>0.049990</td>\n",
       "      <td>0.377794</td>\n",
       "      <td>1.958325</td>\n",
       "      <td>...</td>\n",
       "      <td>60.913298</td>\n",
       "      <td>100.306470</td>\n",
       "      <td>0.387090</td>\n",
       "      <td>0.096003</td>\n",
       "      <td>0.491963</td>\n",
       "      <td>0.035773</td>\n",
       "      <td>0.231296</td>\n",
       "      <td>0.232997</td>\n",
       "      <td>0.344380</td>\n",
       "      <td>0.346573</td>\n",
       "    </tr>\n",
       "    <tr>\n",
       "      <td>min</td>\n",
       "      <td>0.000000</td>\n",
       "      <td>0.000000e+00</td>\n",
       "      <td>0.000000e+00</td>\n",
       "      <td>0.000000</td>\n",
       "      <td>0.000000</td>\n",
       "      <td>0.000000</td>\n",
       "      <td>0.000000</td>\n",
       "      <td>0.000000</td>\n",
       "      <td>0.000000</td>\n",
       "      <td>0.000000</td>\n",
       "      <td>...</td>\n",
       "      <td>0.000000</td>\n",
       "      <td>0.000000</td>\n",
       "      <td>0.000000</td>\n",
       "      <td>0.000000</td>\n",
       "      <td>0.000000</td>\n",
       "      <td>0.000000</td>\n",
       "      <td>0.000000</td>\n",
       "      <td>0.000000</td>\n",
       "      <td>0.000000</td>\n",
       "      <td>0.000000</td>\n",
       "    </tr>\n",
       "    <tr>\n",
       "      <td>25%</td>\n",
       "      <td>0.000000</td>\n",
       "      <td>1.050000e+02</td>\n",
       "      <td>0.000000e+00</td>\n",
       "      <td>0.000000</td>\n",
       "      <td>0.000000</td>\n",
       "      <td>0.000000</td>\n",
       "      <td>0.000000</td>\n",
       "      <td>0.000000</td>\n",
       "      <td>0.000000</td>\n",
       "      <td>0.000000</td>\n",
       "      <td>...</td>\n",
       "      <td>255.000000</td>\n",
       "      <td>244.000000</td>\n",
       "      <td>0.970000</td>\n",
       "      <td>0.000000</td>\n",
       "      <td>0.000000</td>\n",
       "      <td>0.000000</td>\n",
       "      <td>0.000000</td>\n",
       "      <td>0.000000</td>\n",
       "      <td>0.000000</td>\n",
       "      <td>0.000000</td>\n",
       "    </tr>\n",
       "    <tr>\n",
       "      <td>50%</td>\n",
       "      <td>0.000000</td>\n",
       "      <td>5.200000e+02</td>\n",
       "      <td>0.000000e+00</td>\n",
       "      <td>0.000000</td>\n",
       "      <td>0.000000</td>\n",
       "      <td>0.000000</td>\n",
       "      <td>0.000000</td>\n",
       "      <td>0.000000</td>\n",
       "      <td>0.000000</td>\n",
       "      <td>0.000000</td>\n",
       "      <td>...</td>\n",
       "      <td>255.000000</td>\n",
       "      <td>255.000000</td>\n",
       "      <td>1.000000</td>\n",
       "      <td>0.000000</td>\n",
       "      <td>1.000000</td>\n",
       "      <td>0.000000</td>\n",
       "      <td>0.000000</td>\n",
       "      <td>0.000000</td>\n",
       "      <td>0.000000</td>\n",
       "      <td>0.000000</td>\n",
       "    </tr>\n",
       "    <tr>\n",
       "      <td>75%</td>\n",
       "      <td>0.000000</td>\n",
       "      <td>1.032000e+03</td>\n",
       "      <td>0.000000e+00</td>\n",
       "      <td>0.000000</td>\n",
       "      <td>0.000000</td>\n",
       "      <td>0.000000</td>\n",
       "      <td>0.000000</td>\n",
       "      <td>0.000000</td>\n",
       "      <td>0.000000</td>\n",
       "      <td>0.000000</td>\n",
       "      <td>...</td>\n",
       "      <td>255.000000</td>\n",
       "      <td>255.000000</td>\n",
       "      <td>1.000000</td>\n",
       "      <td>0.010000</td>\n",
       "      <td>1.000000</td>\n",
       "      <td>0.000000</td>\n",
       "      <td>0.000000</td>\n",
       "      <td>0.000000</td>\n",
       "      <td>0.000000</td>\n",
       "      <td>0.000000</td>\n",
       "    </tr>\n",
       "    <tr>\n",
       "      <td>max</td>\n",
       "      <td>57715.000000</td>\n",
       "      <td>6.282565e+07</td>\n",
       "      <td>5.203179e+06</td>\n",
       "      <td>1.000000</td>\n",
       "      <td>3.000000</td>\n",
       "      <td>3.000000</td>\n",
       "      <td>101.000000</td>\n",
       "      <td>4.000000</td>\n",
       "      <td>1.000000</td>\n",
       "      <td>796.000000</td>\n",
       "      <td>...</td>\n",
       "      <td>255.000000</td>\n",
       "      <td>255.000000</td>\n",
       "      <td>1.000000</td>\n",
       "      <td>1.000000</td>\n",
       "      <td>1.000000</td>\n",
       "      <td>1.000000</td>\n",
       "      <td>1.000000</td>\n",
       "      <td>1.000000</td>\n",
       "      <td>1.000000</td>\n",
       "      <td>1.000000</td>\n",
       "    </tr>\n",
       "  </tbody>\n",
       "</table>\n",
       "<p>8 rows × 38 columns</p>\n",
       "</div>"
      ],
      "text/plain": [
       "            duration     src_bytes     dst_bytes           land  \\\n",
       "count  311029.000000  3.110290e+05  3.110290e+05  311029.000000   \n",
       "mean       17.902736  1.731702e+03  7.479937e+02       0.000029   \n",
       "std       407.644400  1.276567e+05  1.612018e+04       0.005379   \n",
       "min         0.000000  0.000000e+00  0.000000e+00       0.000000   \n",
       "25%         0.000000  1.050000e+02  0.000000e+00       0.000000   \n",
       "50%         0.000000  5.200000e+02  0.000000e+00       0.000000   \n",
       "75%         0.000000  1.032000e+03  0.000000e+00       0.000000   \n",
       "max     57715.000000  6.282565e+07  5.203179e+06       1.000000   \n",
       "\n",
       "       wrong_fragment         urgent            hot  num_failed_logins  \\\n",
       "count   311029.000000  311029.000000  311029.000000      311029.000000   \n",
       "mean         0.000762       0.000051       0.014677           0.002363   \n",
       "std          0.040367       0.009821       0.312068           0.049990   \n",
       "min          0.000000       0.000000       0.000000           0.000000   \n",
       "25%          0.000000       0.000000       0.000000           0.000000   \n",
       "50%          0.000000       0.000000       0.000000           0.000000   \n",
       "75%          0.000000       0.000000       0.000000           0.000000   \n",
       "max          3.000000       3.000000     101.000000           4.000000   \n",
       "\n",
       "           logged_in  num_compromised  ...  dst_host_count  \\\n",
       "count  311029.000000    311029.000000  ...   311029.000000   \n",
       "mean        0.172476         0.011243  ...      235.282681   \n",
       "std         0.377794         1.958325  ...       60.913298   \n",
       "min         0.000000         0.000000  ...        0.000000   \n",
       "25%         0.000000         0.000000  ...      255.000000   \n",
       "50%         0.000000         0.000000  ...      255.000000   \n",
       "75%         0.000000         0.000000  ...      255.000000   \n",
       "max         1.000000       796.000000  ...      255.000000   \n",
       "\n",
       "       dst_host_srv_count  dst_host_same_srv_rate  dst_host_diff_srv_rate  \\\n",
       "count       311029.000000           311029.000000           311029.000000   \n",
       "mean           199.193914                0.793494                0.024953   \n",
       "std            100.306470                0.387090                0.096003   \n",
       "min              0.000000                0.000000                0.000000   \n",
       "25%            244.000000                0.970000                0.000000   \n",
       "50%            255.000000                1.000000                0.000000   \n",
       "75%            255.000000                1.000000                0.010000   \n",
       "max            255.000000                1.000000                1.000000   \n",
       "\n",
       "       dst_host_same_src_port_rate  dst_host_srv_diff_host_rate  \\\n",
       "count                311029.000000                311029.000000   \n",
       "mean                      0.547919                     0.004566   \n",
       "std                       0.491963                     0.035773   \n",
       "min                       0.000000                     0.000000   \n",
       "25%                       0.000000                     0.000000   \n",
       "50%                       1.000000                     0.000000   \n",
       "75%                       1.000000                     0.000000   \n",
       "max                       1.000000                     1.000000   \n",
       "\n",
       "       dst_host_serror_rate  dst_host_srv_serror_rate  dst_host_rerror_rate  \\\n",
       "count         311029.000000             311029.000000         311029.000000   \n",
       "mean               0.058764                  0.058791              0.142659   \n",
       "std                0.231296                  0.232997              0.344380   \n",
       "min                0.000000                  0.000000              0.000000   \n",
       "25%                0.000000                  0.000000              0.000000   \n",
       "50%                0.000000                  0.000000              0.000000   \n",
       "75%                0.000000                  0.000000              0.000000   \n",
       "max                1.000000                  1.000000              1.000000   \n",
       "\n",
       "       dst_host_srv_rerror_rate  \n",
       "count             311029.000000  \n",
       "mean                   0.141693  \n",
       "std                    0.346573  \n",
       "min                    0.000000  \n",
       "25%                    0.000000  \n",
       "50%                    0.000000  \n",
       "75%                    0.000000  \n",
       "max                    1.000000  \n",
       "\n",
       "[8 rows x 38 columns]"
      ]
     },
     "execution_count": 33,
     "metadata": {},
     "output_type": "execute_result"
    }
   ],
   "source": [
    "df_kdd_test_data.describe()"
   ]
  },
  {
   "cell_type": "markdown",
   "metadata": {},
   "source": [
    "We have 4 categorical fields, and 4 binary fields. As a first step, we go around exploring the categorical variables."
   ]
  },
  {
   "cell_type": "code",
   "execution_count": 34,
   "metadata": {},
   "outputs": [
    {
     "data": {
      "text/plain": [
       "(4898431, 42)"
      ]
     },
     "execution_count": 34,
     "metadata": {},
     "output_type": "execute_result"
    }
   ],
   "source": [
    "df_kdd_data.shape"
   ]
  },
  {
   "cell_type": "code",
   "execution_count": 35,
   "metadata": {},
   "outputs": [
    {
     "data": {
      "text/plain": [
       "(311029, 42)"
      ]
     },
     "execution_count": 35,
     "metadata": {},
     "output_type": "execute_result"
    }
   ],
   "source": [
    "df_kdd_test_data.shape"
   ]
  },
  {
   "cell_type": "markdown",
   "metadata": {},
   "source": [
    "<h2>Data Exploration and Pre-processing </h2>"
   ]
  },
  {
   "cell_type": "code",
   "execution_count": 36,
   "metadata": {},
   "outputs": [],
   "source": [
    "# Copy the data frame for repeated evaulation.\n",
    "df = df_kdd_data.copy(deep=True)\n",
    "df_test = df_kdd_test_data.copy(deep=True)"
   ]
  },
  {
   "cell_type": "code",
   "execution_count": 37,
   "metadata": {},
   "outputs": [
    {
     "name": "stdout",
     "output_type": "stream",
     "text": [
      "Categorical ['flag', 'protocol_type', 'label', 'service']\n",
      "Numerical Index(['duration', 'src_bytes', 'dst_bytes', 'land', 'wrong_fragment',\n",
      "       'urgent', 'hot', 'num_failed_logins', 'logged_in', 'num_compromised',\n",
      "       'root_shell', 'su_attempted', 'num_root', 'num_file_creations',\n",
      "       'num_shells', 'num_access_files', 'num_outbound_cmds', 'is_host_login',\n",
      "       'is_guest_login', 'count', 'srv_count', 'serror_rate',\n",
      "       'srv_serror_rate', 'rerror_rate', 'srv_rerror_rate', 'same_srv_rate',\n",
      "       'diff_srv_rate', 'srv_diff_host_rate', 'dst_host_count',\n",
      "       'dst_host_srv_count', 'dst_host_same_srv_rate',\n",
      "       'dst_host_diff_srv_rate', 'dst_host_same_src_port_rate',\n",
      "       'dst_host_srv_diff_host_rate', 'dst_host_serror_rate',\n",
      "       'dst_host_srv_serror_rate', 'dst_host_rerror_rate',\n",
      "       'dst_host_srv_rerror_rate'],\n",
      "      dtype='object')\n"
     ]
    }
   ],
   "source": [
    "# Identifying categorical features\n",
    "numeric_cols = df._get_numeric_data().columns # gets all the numeric column names\n",
    "categorical_cols = list(set(df.columns)-set(numeric_cols))\n",
    "print(\"Categorical {}\".format(categorical_cols))\n",
    "print(\"Numerical {}\".format(numeric_cols))"
   ]
  },
  {
   "cell_type": "code",
   "execution_count": 38,
   "metadata": {},
   "outputs": [
    {
     "name": "stdout",
     "output_type": "stream",
     "text": [
      "land - [0(100.0%) , 1(0.0%)]\n",
      "logged_in - [0(85.6%) , 1(14.4%)]\n",
      "root_shell - [0(100.0%) , 1(0.0%)]\n",
      "num_outbound_cmds - [0(100.0%)]\n",
      "is_host_login - [0(100.0%) , 1(0.0%)]\n",
      "is_guest_login - [0(99.9%) , 1(0.1%)]\n"
     ]
    }
   ],
   "source": [
    "# Converting the Binary Variables in to Categorical. This will help us to better understand the continuous variables.\n",
    "binary_cols = []\n",
    "for col in numeric_cols:\n",
    "    if len(df[col].unique()) <= 2:\n",
    "        result = []\n",
    "        s = df[col].value_counts()\n",
    "        t = float(len(df[col]))\n",
    "        for v in s.index:\n",
    "            result.append(\"{}({}%)\".format(v,round(100*(s[v]/t),1)))\n",
    "        print(\"{} - [{}]\".format(col, \" , \".join(result)))\n",
    "        binary_cols.append(col)\n",
    "# combine all categorical column names\n",
    "for col in binary_cols:\n",
    "    categorical_cols.append(col)"
   ]
  },
  {
   "cell_type": "code",
   "execution_count": 39,
   "metadata": {},
   "outputs": [
    {
     "name": "stdout",
     "output_type": "stream",
     "text": [
      "New Categorical Set ['flag', 'protocol_type', 'label', 'service', 'land', 'logged_in', 'root_shell', 'num_outbound_cmds', 'is_host_login', 'is_guest_login']\n"
     ]
    }
   ],
   "source": [
    "print(\"New Categorical Set {}\".format(categorical_cols))"
   ]
  },
  {
   "cell_type": "code",
   "execution_count": 40,
   "metadata": {},
   "outputs": [
    {
     "name": "stdout",
     "output_type": "stream",
     "text": [
      "New Numerical Set Index(['duration', 'src_bytes', 'dst_bytes', 'land', 'wrong_fragment',\n",
      "       'urgent', 'hot', 'num_failed_logins', 'logged_in', 'num_compromised',\n",
      "       'root_shell', 'su_attempted', 'num_root', 'num_file_creations',\n",
      "       'num_shells', 'num_access_files', 'num_outbound_cmds', 'is_host_login',\n",
      "       'is_guest_login', 'count', 'srv_count', 'serror_rate',\n",
      "       'srv_serror_rate', 'rerror_rate', 'srv_rerror_rate', 'same_srv_rate',\n",
      "       'diff_srv_rate', 'srv_diff_host_rate', 'dst_host_count',\n",
      "       'dst_host_srv_count', 'dst_host_same_srv_rate',\n",
      "       'dst_host_diff_srv_rate', 'dst_host_same_src_port_rate',\n",
      "       'dst_host_srv_diff_host_rate', 'dst_host_serror_rate',\n",
      "       'dst_host_srv_serror_rate', 'dst_host_rerror_rate',\n",
      "       'dst_host_srv_rerror_rate'],\n",
      "      dtype='object')\n"
     ]
    }
   ],
   "source": [
    "numeric_features = list(set(numeric_cols)-set(categorical_cols))\n",
    "print(\"New Numerical Set {}\".format(numeric_cols))"
   ]
  },
  {
   "cell_type": "markdown",
   "metadata": {},
   "source": [
    "<p>EDA For Categorical Data.</p>"
   ]
  },
  {
   "cell_type": "code",
   "execution_count": 41,
   "metadata": {},
   "outputs": [
    {
     "data": {
      "text/plain": [
       "smurf.              2807886\n",
       "neptune.            1072017\n",
       "normal.              972781\n",
       "satan.                15892\n",
       "ipsweep.              12481\n",
       "portsweep.            10413\n",
       "nmap.                  2316\n",
       "back.                  2203\n",
       "warezclient.           1020\n",
       "teardrop.               979\n",
       "pod.                    264\n",
       "guess_passwd.            53\n",
       "buffer_overflow.         30\n",
       "land.                    21\n",
       "warezmaster.             20\n",
       "imap.                    12\n",
       "rootkit.                 10\n",
       "loadmodule.               9\n",
       "ftp_write.                8\n",
       "multihop.                 7\n",
       "phf.                      4\n",
       "perl.                     3\n",
       "spy.                      2\n",
       "Name: label, dtype: int64"
      ]
     },
     "execution_count": 41,
     "metadata": {},
     "output_type": "execute_result"
    }
   ],
   "source": [
    "df.label.value_counts()"
   ]
  },
  {
   "cell_type": "code",
   "execution_count": 42,
   "metadata": {},
   "outputs": [
    {
     "data": {
      "text/plain": [
       "icmp    2833545\n",
       "tcp     1870598\n",
       "udp      194288\n",
       "Name: protocol_type, dtype: int64"
      ]
     },
     "execution_count": 42,
     "metadata": {},
     "output_type": "execute_result"
    }
   ],
   "source": [
    "df.protocol_type.value_counts()"
   ]
  },
  {
   "cell_type": "code",
   "execution_count": 43,
   "metadata": {},
   "outputs": [
    {
     "data": {
      "image/png": "[encoded data removed]",
      "text/plain": [
       "<Figure size 216x216 with 1 Axes>"
      ]
     },
     "metadata": {},
     "output_type": "display_data"
    }
   ],
   "source": [
    "# Pie chart to show normal vs. attacks\n",
    "colors = [\"#9d95f5\", \"#93f5eb\"]\n",
    "labels = ['normal', 'attack']\n",
    "sizes = [972781, 4898431-972781]\n",
    "explode = (0.05, 0.05)  \n",
    "plt.pie(sizes, explode =explode ,labels=labels, autopct='%1.1f%%', colors=colors, shadow=False, startangle=90)\n",
    "plt.axis('equal')\n",
    "plt.title('Distribution of normal vs attack\\n')\n",
    "plt.tight_layout()\n",
    "fig = plt.gcf()\n",
    "fig.set_size_inches(3,3)\n",
    "plt.show()"
   ]
  },
  {
   "cell_type": "code",
   "execution_count": 44,
   "metadata": {},
   "outputs": [
    {
     "data": {
      "image/png": "[encoded data removed]",
      "text/plain": [
       "<Figure size 216x216 with 1 Axes>"
      ]
     },
     "metadata": {},
     "output_type": "display_data"
    }
   ],
   "source": [
    "# Pie chart to classify protocols of connections\n",
    "colors = [\"#9d95f5\", \"#93f5eb\", \"#D63B55\"]\n",
    "labels = ['icmp', 'tcp', 'udp']\n",
    "sizes = [2833545, 1870598, 194288]\n",
    "explode = (0.05, 0.05, 0.05)  \n",
    "plt.pie(sizes, explode =explode ,labels=labels, autopct='%1.1f%%', colors=colors, shadow=False, startangle=90)\n",
    "plt.axis('equal')\n",
    "plt.title('Distribution of protocol types\\n')\n",
    "plt.tight_layout()\n",
    "fig = plt.gcf()\n",
    "fig.set_size_inches(3,3)\n",
    "plt.show()"
   ]
  },
  {
   "cell_type": "code",
   "execution_count": 45,
   "metadata": {},
   "outputs": [],
   "source": [
    "def binary_classifier(train_data):\n",
    "#   Converting the labels as 0 (Normal) and 1 as (Attack)\n",
    "    train_data['label'][train_data['label']!='normal.'] = 'attack'  # end with .\n",
    "    train_data['label'][train_data['label']=='normal.'] = 0\n",
    "    train_data['label'][train_data['label']=='attack'] = 1\n",
    "    train_data[['label']] = train_data[['label']].apply(pd.to_numeric)\n",
    "    return train_data"
   ]
  },
  {
   "cell_type": "markdown",
   "metadata": {},
   "source": [
    "<p>The dependency variable or label feature has multiple attacks, for this project we will explore around the binary classification.</p>\n",
    "<p>In this analysis, we only identify if a attack can be identified based on the input features</p>\n",
    "<p>We represet attacks as 1 and normal as 0</p>"
   ]
  },
  {
   "cell_type": "code",
   "execution_count": 46,
   "metadata": {},
   "outputs": [
    {
     "data": {
      "text/html": [
       "<div>\n",
       "<style scoped>\n",
       "    .dataframe tbody tr th:only-of-type {\n",
       "        vertical-align: middle;\n",
       "    }\n",
       "\n",
       "    .dataframe tbody tr th {\n",
       "        vertical-align: top;\n",
       "    }\n",
       "\n",
       "    .dataframe thead th {\n",
       "        text-align: right;\n",
       "    }\n",
       "</style>\n",
       "<table border=\"1\" class=\"dataframe\">\n",
       "  <thead>\n",
       "    <tr style=\"text-align: right;\">\n",
       "      <th></th>\n",
       "      <th>duration</th>\n",
       "      <th>protocol_type</th>\n",
       "      <th>service</th>\n",
       "      <th>flag</th>\n",
       "      <th>src_bytes</th>\n",
       "      <th>dst_bytes</th>\n",
       "      <th>land</th>\n",
       "      <th>wrong_fragment</th>\n",
       "      <th>urgent</th>\n",
       "      <th>hot</th>\n",
       "      <th>...</th>\n",
       "      <th>dst_host_srv_count</th>\n",
       "      <th>dst_host_same_srv_rate</th>\n",
       "      <th>dst_host_diff_srv_rate</th>\n",
       "      <th>dst_host_same_src_port_rate</th>\n",
       "      <th>dst_host_srv_diff_host_rate</th>\n",
       "      <th>dst_host_serror_rate</th>\n",
       "      <th>dst_host_srv_serror_rate</th>\n",
       "      <th>dst_host_rerror_rate</th>\n",
       "      <th>dst_host_srv_rerror_rate</th>\n",
       "      <th>label</th>\n",
       "    </tr>\n",
       "  </thead>\n",
       "  <tbody>\n",
       "    <tr>\n",
       "      <td>0</td>\n",
       "      <td>0</td>\n",
       "      <td>tcp</td>\n",
       "      <td>http</td>\n",
       "      <td>SF</td>\n",
       "      <td>215</td>\n",
       "      <td>45076</td>\n",
       "      <td>0</td>\n",
       "      <td>0</td>\n",
       "      <td>0</td>\n",
       "      <td>0</td>\n",
       "      <td>...</td>\n",
       "      <td>0</td>\n",
       "      <td>0.0</td>\n",
       "      <td>0.0</td>\n",
       "      <td>0.00</td>\n",
       "      <td>0.0</td>\n",
       "      <td>0.0</td>\n",
       "      <td>0.0</td>\n",
       "      <td>0.0</td>\n",
       "      <td>0.0</td>\n",
       "      <td>0</td>\n",
       "    </tr>\n",
       "    <tr>\n",
       "      <td>1</td>\n",
       "      <td>0</td>\n",
       "      <td>tcp</td>\n",
       "      <td>http</td>\n",
       "      <td>SF</td>\n",
       "      <td>162</td>\n",
       "      <td>4528</td>\n",
       "      <td>0</td>\n",
       "      <td>0</td>\n",
       "      <td>0</td>\n",
       "      <td>0</td>\n",
       "      <td>...</td>\n",
       "      <td>1</td>\n",
       "      <td>1.0</td>\n",
       "      <td>0.0</td>\n",
       "      <td>1.00</td>\n",
       "      <td>0.0</td>\n",
       "      <td>0.0</td>\n",
       "      <td>0.0</td>\n",
       "      <td>0.0</td>\n",
       "      <td>0.0</td>\n",
       "      <td>0</td>\n",
       "    </tr>\n",
       "    <tr>\n",
       "      <td>2</td>\n",
       "      <td>0</td>\n",
       "      <td>tcp</td>\n",
       "      <td>http</td>\n",
       "      <td>SF</td>\n",
       "      <td>236</td>\n",
       "      <td>1228</td>\n",
       "      <td>0</td>\n",
       "      <td>0</td>\n",
       "      <td>0</td>\n",
       "      <td>0</td>\n",
       "      <td>...</td>\n",
       "      <td>2</td>\n",
       "      <td>1.0</td>\n",
       "      <td>0.0</td>\n",
       "      <td>0.50</td>\n",
       "      <td>0.0</td>\n",
       "      <td>0.0</td>\n",
       "      <td>0.0</td>\n",
       "      <td>0.0</td>\n",
       "      <td>0.0</td>\n",
       "      <td>0</td>\n",
       "    </tr>\n",
       "    <tr>\n",
       "      <td>3</td>\n",
       "      <td>0</td>\n",
       "      <td>tcp</td>\n",
       "      <td>http</td>\n",
       "      <td>SF</td>\n",
       "      <td>233</td>\n",
       "      <td>2032</td>\n",
       "      <td>0</td>\n",
       "      <td>0</td>\n",
       "      <td>0</td>\n",
       "      <td>0</td>\n",
       "      <td>...</td>\n",
       "      <td>3</td>\n",
       "      <td>1.0</td>\n",
       "      <td>0.0</td>\n",
       "      <td>0.33</td>\n",
       "      <td>0.0</td>\n",
       "      <td>0.0</td>\n",
       "      <td>0.0</td>\n",
       "      <td>0.0</td>\n",
       "      <td>0.0</td>\n",
       "      <td>0</td>\n",
       "    </tr>\n",
       "    <tr>\n",
       "      <td>4</td>\n",
       "      <td>0</td>\n",
       "      <td>tcp</td>\n",
       "      <td>http</td>\n",
       "      <td>SF</td>\n",
       "      <td>239</td>\n",
       "      <td>486</td>\n",
       "      <td>0</td>\n",
       "      <td>0</td>\n",
       "      <td>0</td>\n",
       "      <td>0</td>\n",
       "      <td>...</td>\n",
       "      <td>4</td>\n",
       "      <td>1.0</td>\n",
       "      <td>0.0</td>\n",
       "      <td>0.25</td>\n",
       "      <td>0.0</td>\n",
       "      <td>0.0</td>\n",
       "      <td>0.0</td>\n",
       "      <td>0.0</td>\n",
       "      <td>0.0</td>\n",
       "      <td>0</td>\n",
       "    </tr>\n",
       "  </tbody>\n",
       "</table>\n",
       "<p>5 rows × 42 columns</p>\n",
       "</div>"
      ],
      "text/plain": [
       "   duration protocol_type service flag  src_bytes  dst_bytes  land  \\\n",
       "0         0           tcp    http   SF        215      45076     0   \n",
       "1         0           tcp    http   SF        162       4528     0   \n",
       "2         0           tcp    http   SF        236       1228     0   \n",
       "3         0           tcp    http   SF        233       2032     0   \n",
       "4         0           tcp    http   SF        239        486     0   \n",
       "\n",
       "   wrong_fragment  urgent  hot  ...  dst_host_srv_count  \\\n",
       "0               0       0    0  ...                   0   \n",
       "1               0       0    0  ...                   1   \n",
       "2               0       0    0  ...                   2   \n",
       "3               0       0    0  ...                   3   \n",
       "4               0       0    0  ...                   4   \n",
       "\n",
       "   dst_host_same_srv_rate  dst_host_diff_srv_rate  \\\n",
       "0                     0.0                     0.0   \n",
       "1                     1.0                     0.0   \n",
       "2                     1.0                     0.0   \n",
       "3                     1.0                     0.0   \n",
       "4                     1.0                     0.0   \n",
       "\n",
       "   dst_host_same_src_port_rate  dst_host_srv_diff_host_rate  \\\n",
       "0                         0.00                          0.0   \n",
       "1                         1.00                          0.0   \n",
       "2                         0.50                          0.0   \n",
       "3                         0.33                          0.0   \n",
       "4                         0.25                          0.0   \n",
       "\n",
       "   dst_host_serror_rate  dst_host_srv_serror_rate  dst_host_rerror_rate  \\\n",
       "0                   0.0                       0.0                   0.0   \n",
       "1                   0.0                       0.0                   0.0   \n",
       "2                   0.0                       0.0                   0.0   \n",
       "3                   0.0                       0.0                   0.0   \n",
       "4                   0.0                       0.0                   0.0   \n",
       "\n",
       "   dst_host_srv_rerror_rate  label  \n",
       "0                       0.0      0  \n",
       "1                       0.0      0  \n",
       "2                       0.0      0  \n",
       "3                       0.0      0  \n",
       "4                       0.0      0  \n",
       "\n",
       "[5 rows x 42 columns]"
      ]
     },
     "execution_count": 46,
     "metadata": {},
     "output_type": "execute_result"
    }
   ],
   "source": [
    "df = binary_classifier(df)\n",
    "df.head()"
   ]
  },
  {
   "cell_type": "code",
   "execution_count": 47,
   "metadata": {},
   "outputs": [
    {
     "data": {
      "text/html": [
       "<div>\n",
       "<style scoped>\n",
       "    .dataframe tbody tr th:only-of-type {\n",
       "        vertical-align: middle;\n",
       "    }\n",
       "\n",
       "    .dataframe tbody tr th {\n",
       "        vertical-align: top;\n",
       "    }\n",
       "\n",
       "    .dataframe thead th {\n",
       "        text-align: right;\n",
       "    }\n",
       "</style>\n",
       "<table border=\"1\" class=\"dataframe\">\n",
       "  <thead>\n",
       "    <tr style=\"text-align: right;\">\n",
       "      <th></th>\n",
       "      <th>duration</th>\n",
       "      <th>protocol_type</th>\n",
       "      <th>service</th>\n",
       "      <th>flag</th>\n",
       "      <th>src_bytes</th>\n",
       "      <th>dst_bytes</th>\n",
       "      <th>land</th>\n",
       "      <th>wrong_fragment</th>\n",
       "      <th>urgent</th>\n",
       "      <th>hot</th>\n",
       "      <th>...</th>\n",
       "      <th>dst_host_srv_count</th>\n",
       "      <th>dst_host_same_srv_rate</th>\n",
       "      <th>dst_host_diff_srv_rate</th>\n",
       "      <th>dst_host_same_src_port_rate</th>\n",
       "      <th>dst_host_srv_diff_host_rate</th>\n",
       "      <th>dst_host_serror_rate</th>\n",
       "      <th>dst_host_srv_serror_rate</th>\n",
       "      <th>dst_host_rerror_rate</th>\n",
       "      <th>dst_host_srv_rerror_rate</th>\n",
       "      <th>label</th>\n",
       "    </tr>\n",
       "  </thead>\n",
       "  <tbody>\n",
       "    <tr>\n",
       "      <td>0</td>\n",
       "      <td>0</td>\n",
       "      <td>udp</td>\n",
       "      <td>private</td>\n",
       "      <td>SF</td>\n",
       "      <td>105</td>\n",
       "      <td>146</td>\n",
       "      <td>0</td>\n",
       "      <td>0</td>\n",
       "      <td>0</td>\n",
       "      <td>0</td>\n",
       "      <td>...</td>\n",
       "      <td>254</td>\n",
       "      <td>1.0</td>\n",
       "      <td>0.01</td>\n",
       "      <td>0.00</td>\n",
       "      <td>0.0</td>\n",
       "      <td>0.0</td>\n",
       "      <td>0.0</td>\n",
       "      <td>0.0</td>\n",
       "      <td>0.0</td>\n",
       "      <td>0</td>\n",
       "    </tr>\n",
       "    <tr>\n",
       "      <td>1</td>\n",
       "      <td>0</td>\n",
       "      <td>udp</td>\n",
       "      <td>private</td>\n",
       "      <td>SF</td>\n",
       "      <td>105</td>\n",
       "      <td>146</td>\n",
       "      <td>0</td>\n",
       "      <td>0</td>\n",
       "      <td>0</td>\n",
       "      <td>0</td>\n",
       "      <td>...</td>\n",
       "      <td>254</td>\n",
       "      <td>1.0</td>\n",
       "      <td>0.01</td>\n",
       "      <td>0.00</td>\n",
       "      <td>0.0</td>\n",
       "      <td>0.0</td>\n",
       "      <td>0.0</td>\n",
       "      <td>0.0</td>\n",
       "      <td>0.0</td>\n",
       "      <td>0</td>\n",
       "    </tr>\n",
       "    <tr>\n",
       "      <td>2</td>\n",
       "      <td>0</td>\n",
       "      <td>udp</td>\n",
       "      <td>private</td>\n",
       "      <td>SF</td>\n",
       "      <td>105</td>\n",
       "      <td>146</td>\n",
       "      <td>0</td>\n",
       "      <td>0</td>\n",
       "      <td>0</td>\n",
       "      <td>0</td>\n",
       "      <td>...</td>\n",
       "      <td>254</td>\n",
       "      <td>1.0</td>\n",
       "      <td>0.01</td>\n",
       "      <td>0.00</td>\n",
       "      <td>0.0</td>\n",
       "      <td>0.0</td>\n",
       "      <td>0.0</td>\n",
       "      <td>0.0</td>\n",
       "      <td>0.0</td>\n",
       "      <td>0</td>\n",
       "    </tr>\n",
       "    <tr>\n",
       "      <td>3</td>\n",
       "      <td>0</td>\n",
       "      <td>udp</td>\n",
       "      <td>private</td>\n",
       "      <td>SF</td>\n",
       "      <td>105</td>\n",
       "      <td>146</td>\n",
       "      <td>0</td>\n",
       "      <td>0</td>\n",
       "      <td>0</td>\n",
       "      <td>0</td>\n",
       "      <td>...</td>\n",
       "      <td>254</td>\n",
       "      <td>1.0</td>\n",
       "      <td>0.01</td>\n",
       "      <td>0.00</td>\n",
       "      <td>0.0</td>\n",
       "      <td>0.0</td>\n",
       "      <td>0.0</td>\n",
       "      <td>0.0</td>\n",
       "      <td>0.0</td>\n",
       "      <td>1</td>\n",
       "    </tr>\n",
       "    <tr>\n",
       "      <td>4</td>\n",
       "      <td>0</td>\n",
       "      <td>udp</td>\n",
       "      <td>private</td>\n",
       "      <td>SF</td>\n",
       "      <td>105</td>\n",
       "      <td>146</td>\n",
       "      <td>0</td>\n",
       "      <td>0</td>\n",
       "      <td>0</td>\n",
       "      <td>0</td>\n",
       "      <td>...</td>\n",
       "      <td>254</td>\n",
       "      <td>1.0</td>\n",
       "      <td>0.01</td>\n",
       "      <td>0.01</td>\n",
       "      <td>0.0</td>\n",
       "      <td>0.0</td>\n",
       "      <td>0.0</td>\n",
       "      <td>0.0</td>\n",
       "      <td>0.0</td>\n",
       "      <td>1</td>\n",
       "    </tr>\n",
       "  </tbody>\n",
       "</table>\n",
       "<p>5 rows × 42 columns</p>\n",
       "</div>"
      ],
      "text/plain": [
       "   duration protocol_type  service flag  src_bytes  dst_bytes  land  \\\n",
       "0         0           udp  private   SF        105        146     0   \n",
       "1         0           udp  private   SF        105        146     0   \n",
       "2         0           udp  private   SF        105        146     0   \n",
       "3         0           udp  private   SF        105        146     0   \n",
       "4         0           udp  private   SF        105        146     0   \n",
       "\n",
       "   wrong_fragment  urgent  hot  ...  dst_host_srv_count  \\\n",
       "0               0       0    0  ...                 254   \n",
       "1               0       0    0  ...                 254   \n",
       "2               0       0    0  ...                 254   \n",
       "3               0       0    0  ...                 254   \n",
       "4               0       0    0  ...                 254   \n",
       "\n",
       "   dst_host_same_srv_rate  dst_host_diff_srv_rate  \\\n",
       "0                     1.0                    0.01   \n",
       "1                     1.0                    0.01   \n",
       "2                     1.0                    0.01   \n",
       "3                     1.0                    0.01   \n",
       "4                     1.0                    0.01   \n",
       "\n",
       "   dst_host_same_src_port_rate  dst_host_srv_diff_host_rate  \\\n",
       "0                         0.00                          0.0   \n",
       "1                         0.00                          0.0   \n",
       "2                         0.00                          0.0   \n",
       "3                         0.00                          0.0   \n",
       "4                         0.01                          0.0   \n",
       "\n",
       "   dst_host_serror_rate  dst_host_srv_serror_rate  dst_host_rerror_rate  \\\n",
       "0                   0.0                       0.0                   0.0   \n",
       "1                   0.0                       0.0                   0.0   \n",
       "2                   0.0                       0.0                   0.0   \n",
       "3                   0.0                       0.0                   0.0   \n",
       "4                   0.0                       0.0                   0.0   \n",
       "\n",
       "   dst_host_srv_rerror_rate  label  \n",
       "0                       0.0      0  \n",
       "1                       0.0      0  \n",
       "2                       0.0      0  \n",
       "3                       0.0      1  \n",
       "4                       0.0      1  \n",
       "\n",
       "[5 rows x 42 columns]"
      ]
     },
     "execution_count": 47,
     "metadata": {},
     "output_type": "execute_result"
    }
   ],
   "source": [
    "df_test = binary_classifier(df_test)\n",
    "df_test.head()"
   ]
  },
  {
   "cell_type": "code",
   "execution_count": 48,
   "metadata": {},
   "outputs": [
    {
     "data": {
      "text/plain": [
       "1    2820782\n",
       "0      12763\n",
       "Name: label, dtype: int64"
      ]
     },
     "execution_count": 48,
     "metadata": {},
     "output_type": "execute_result"
    }
   ],
   "source": [
    "df.loc[df[\"protocol_type\"]==\"icmp\"].label.value_counts()"
   ]
  },
  {
   "cell_type": "code",
   "execution_count": 49,
   "metadata": {},
   "outputs": [
    {
     "data": {
      "text/plain": [
       "1    1101928\n",
       "0     768670\n",
       "Name: label, dtype: int64"
      ]
     },
     "execution_count": 49,
     "metadata": {},
     "output_type": "execute_result"
    }
   ],
   "source": [
    "df.loc[df[\"protocol_type\"]==\"tcp\"].label.value_counts()"
   ]
  },
  {
   "cell_type": "code",
   "execution_count": 50,
   "metadata": {},
   "outputs": [
    {
     "data": {
      "text/plain": [
       "0    191348\n",
       "1      2940\n",
       "Name: label, dtype: int64"
      ]
     },
     "execution_count": 50,
     "metadata": {},
     "output_type": "execute_result"
    }
   ],
   "source": [
    "df.loc[df[\"protocol_type\"]==\"udp\"].label.value_counts()"
   ]
  },
  {
   "cell_type": "code",
   "execution_count": 51,
   "metadata": {},
   "outputs": [
    {
     "data": {
      "image/png": "[encoded data removed]",
      "text/plain": [
       "<Figure size 432x288 with 1 Axes>"
      ]
     },
     "metadata": {
      "needs_background": "light"
     },
     "output_type": "display_data"
    }
   ],
   "source": [
    "# a graph for protocol type and the label\n",
    "labels = ['icmp', 'tcp', 'udp']\n",
    "protocol_normal = [12763, 768670, 191348]\n",
    "protocol_attack = [2820782, 1101928, 2940]\n",
    "x = np.arange(len(labels))  # the label locations\n",
    "width = 0.35  # the width of the bars\n",
    "\n",
    "fig, ax = plt.subplots()\n",
    "rects1 = ax.bar(x - width/2, protocol_normal, width, label='Normal')\n",
    "rects2 = ax.bar(x + width/2, protocol_attack, width, label='Attacks')\n",
    "ax.set_xlabel('Protocol Type')\n",
    "ax.set_ylabel('Number of Connections')\n",
    "ax.set_title('Connections by Protocol Type')\n",
    "ax.set_xticks(x)\n",
    "ax.set_xticklabels(labels)\n",
    "ax.legend()\n",
    "fig.tight_layout()\n",
    "plt.show()"
   ]
  },
  {
   "cell_type": "markdown",
   "metadata": {},
   "source": [
    "<p>The above analysis yields that, columns num_outbound_cmds has only one value. On the other hand, columns service and flag \n",
    "high cardenality ratio.  high cardenality might end up with feature too sparse, better remove those features.</p>\n",
    "<p>We choose to remove 'flag', 'service', 'num_outbound_cmds'</p>\n",
    "<p>and keep the 'protocol_type', 'label'. 'label' will be replaced with 0 (normal), 1 (has attack) for binary classifier</p>"
   ]
  },
  {
   "cell_type": "code",
   "execution_count": 52,
   "metadata": {},
   "outputs": [],
   "source": [
    "# df.drop('service',axis = 1,inplace = True)\n",
    "df.drop('flag',axis = 1,inplace = True)\n",
    "df.drop('service',axis = 1,inplace = True)\n",
    "df.drop('num_outbound_cmds',axis = 1,inplace = True)\n",
    "\n",
    "df_test.drop('flag',axis = 1,inplace = True)\n",
    "df_test.drop('service',axis = 1,inplace = True)\n",
    "df_test.drop('num_outbound_cmds',axis = 1,inplace = True)"
   ]
  },
  {
   "cell_type": "code",
   "execution_count": 53,
   "metadata": {},
   "outputs": [],
   "source": [
    "# Converting Categorical values to numeric\n",
    "# protocol_type feature mapping\n",
    "pmap = {'icmp':0,'tcp':1,'udp':2}\n",
    "df['protocol_type'] = df['protocol_type'].map(pmap)\n",
    "df_test['protocol_type'] = df_test['protocol_type'].map(pmap)"
   ]
  },
  {
   "cell_type": "code",
   "execution_count": 54,
   "metadata": {},
   "outputs": [
    {
     "data": {
      "text/html": [
       "<div>\n",
       "<style scoped>\n",
       "    .dataframe tbody tr th:only-of-type {\n",
       "        vertical-align: middle;\n",
       "    }\n",
       "\n",
       "    .dataframe tbody tr th {\n",
       "        vertical-align: top;\n",
       "    }\n",
       "\n",
       "    .dataframe thead th {\n",
       "        text-align: right;\n",
       "    }\n",
       "</style>\n",
       "<table border=\"1\" class=\"dataframe\">\n",
       "  <thead>\n",
       "    <tr style=\"text-align: right;\">\n",
       "      <th></th>\n",
       "      <th>duration</th>\n",
       "      <th>protocol_type</th>\n",
       "      <th>src_bytes</th>\n",
       "      <th>dst_bytes</th>\n",
       "      <th>land</th>\n",
       "      <th>wrong_fragment</th>\n",
       "      <th>urgent</th>\n",
       "      <th>hot</th>\n",
       "      <th>num_failed_logins</th>\n",
       "      <th>logged_in</th>\n",
       "      <th>...</th>\n",
       "      <th>dst_host_srv_count</th>\n",
       "      <th>dst_host_same_srv_rate</th>\n",
       "      <th>dst_host_diff_srv_rate</th>\n",
       "      <th>dst_host_same_src_port_rate</th>\n",
       "      <th>dst_host_srv_diff_host_rate</th>\n",
       "      <th>dst_host_serror_rate</th>\n",
       "      <th>dst_host_srv_serror_rate</th>\n",
       "      <th>dst_host_rerror_rate</th>\n",
       "      <th>dst_host_srv_rerror_rate</th>\n",
       "      <th>label</th>\n",
       "    </tr>\n",
       "  </thead>\n",
       "  <tbody>\n",
       "    <tr>\n",
       "      <td>0</td>\n",
       "      <td>0</td>\n",
       "      <td>1</td>\n",
       "      <td>215</td>\n",
       "      <td>45076</td>\n",
       "      <td>0</td>\n",
       "      <td>0</td>\n",
       "      <td>0</td>\n",
       "      <td>0</td>\n",
       "      <td>0</td>\n",
       "      <td>1</td>\n",
       "      <td>...</td>\n",
       "      <td>0</td>\n",
       "      <td>0.0</td>\n",
       "      <td>0.0</td>\n",
       "      <td>0.00</td>\n",
       "      <td>0.0</td>\n",
       "      <td>0.0</td>\n",
       "      <td>0.0</td>\n",
       "      <td>0.0</td>\n",
       "      <td>0.0</td>\n",
       "      <td>0</td>\n",
       "    </tr>\n",
       "    <tr>\n",
       "      <td>1</td>\n",
       "      <td>0</td>\n",
       "      <td>1</td>\n",
       "      <td>162</td>\n",
       "      <td>4528</td>\n",
       "      <td>0</td>\n",
       "      <td>0</td>\n",
       "      <td>0</td>\n",
       "      <td>0</td>\n",
       "      <td>0</td>\n",
       "      <td>1</td>\n",
       "      <td>...</td>\n",
       "      <td>1</td>\n",
       "      <td>1.0</td>\n",
       "      <td>0.0</td>\n",
       "      <td>1.00</td>\n",
       "      <td>0.0</td>\n",
       "      <td>0.0</td>\n",
       "      <td>0.0</td>\n",
       "      <td>0.0</td>\n",
       "      <td>0.0</td>\n",
       "      <td>0</td>\n",
       "    </tr>\n",
       "    <tr>\n",
       "      <td>2</td>\n",
       "      <td>0</td>\n",
       "      <td>1</td>\n",
       "      <td>236</td>\n",
       "      <td>1228</td>\n",
       "      <td>0</td>\n",
       "      <td>0</td>\n",
       "      <td>0</td>\n",
       "      <td>0</td>\n",
       "      <td>0</td>\n",
       "      <td>1</td>\n",
       "      <td>...</td>\n",
       "      <td>2</td>\n",
       "      <td>1.0</td>\n",
       "      <td>0.0</td>\n",
       "      <td>0.50</td>\n",
       "      <td>0.0</td>\n",
       "      <td>0.0</td>\n",
       "      <td>0.0</td>\n",
       "      <td>0.0</td>\n",
       "      <td>0.0</td>\n",
       "      <td>0</td>\n",
       "    </tr>\n",
       "    <tr>\n",
       "      <td>3</td>\n",
       "      <td>0</td>\n",
       "      <td>1</td>\n",
       "      <td>233</td>\n",
       "      <td>2032</td>\n",
       "      <td>0</td>\n",
       "      <td>0</td>\n",
       "      <td>0</td>\n",
       "      <td>0</td>\n",
       "      <td>0</td>\n",
       "      <td>1</td>\n",
       "      <td>...</td>\n",
       "      <td>3</td>\n",
       "      <td>1.0</td>\n",
       "      <td>0.0</td>\n",
       "      <td>0.33</td>\n",
       "      <td>0.0</td>\n",
       "      <td>0.0</td>\n",
       "      <td>0.0</td>\n",
       "      <td>0.0</td>\n",
       "      <td>0.0</td>\n",
       "      <td>0</td>\n",
       "    </tr>\n",
       "    <tr>\n",
       "      <td>4</td>\n",
       "      <td>0</td>\n",
       "      <td>1</td>\n",
       "      <td>239</td>\n",
       "      <td>486</td>\n",
       "      <td>0</td>\n",
       "      <td>0</td>\n",
       "      <td>0</td>\n",
       "      <td>0</td>\n",
       "      <td>0</td>\n",
       "      <td>1</td>\n",
       "      <td>...</td>\n",
       "      <td>4</td>\n",
       "      <td>1.0</td>\n",
       "      <td>0.0</td>\n",
       "      <td>0.25</td>\n",
       "      <td>0.0</td>\n",
       "      <td>0.0</td>\n",
       "      <td>0.0</td>\n",
       "      <td>0.0</td>\n",
       "      <td>0.0</td>\n",
       "      <td>0</td>\n",
       "    </tr>\n",
       "  </tbody>\n",
       "</table>\n",
       "<p>5 rows × 39 columns</p>\n",
       "</div>"
      ],
      "text/plain": [
       "   duration  protocol_type  src_bytes  dst_bytes  land  wrong_fragment  \\\n",
       "0         0              1        215      45076     0               0   \n",
       "1         0              1        162       4528     0               0   \n",
       "2         0              1        236       1228     0               0   \n",
       "3         0              1        233       2032     0               0   \n",
       "4         0              1        239        486     0               0   \n",
       "\n",
       "   urgent  hot  num_failed_logins  logged_in  ...  dst_host_srv_count  \\\n",
       "0       0    0                  0          1  ...                   0   \n",
       "1       0    0                  0          1  ...                   1   \n",
       "2       0    0                  0          1  ...                   2   \n",
       "3       0    0                  0          1  ...                   3   \n",
       "4       0    0                  0          1  ...                   4   \n",
       "\n",
       "   dst_host_same_srv_rate  dst_host_diff_srv_rate  \\\n",
       "0                     0.0                     0.0   \n",
       "1                     1.0                     0.0   \n",
       "2                     1.0                     0.0   \n",
       "3                     1.0                     0.0   \n",
       "4                     1.0                     0.0   \n",
       "\n",
       "   dst_host_same_src_port_rate  dst_host_srv_diff_host_rate  \\\n",
       "0                         0.00                          0.0   \n",
       "1                         1.00                          0.0   \n",
       "2                         0.50                          0.0   \n",
       "3                         0.33                          0.0   \n",
       "4                         0.25                          0.0   \n",
       "\n",
       "   dst_host_serror_rate  dst_host_srv_serror_rate  dst_host_rerror_rate  \\\n",
       "0                   0.0                       0.0                   0.0   \n",
       "1                   0.0                       0.0                   0.0   \n",
       "2                   0.0                       0.0                   0.0   \n",
       "3                   0.0                       0.0                   0.0   \n",
       "4                   0.0                       0.0                   0.0   \n",
       "\n",
       "   dst_host_srv_rerror_rate  label  \n",
       "0                       0.0      0  \n",
       "1                       0.0      0  \n",
       "2                       0.0      0  \n",
       "3                       0.0      0  \n",
       "4                       0.0      0  \n",
       "\n",
       "[5 rows x 39 columns]"
      ]
     },
     "execution_count": 54,
     "metadata": {},
     "output_type": "execute_result"
    }
   ],
   "source": [
    "df.head()"
   ]
  },
  {
   "cell_type": "markdown",
   "metadata": {},
   "source": [
    "# Continuos variable analysis"
   ]
  },
  {
   "cell_type": "code",
   "execution_count": 55,
   "metadata": {},
   "outputs": [
    {
     "data": {
      "image/png": "[encoded data removed]",
      "text/plain": [
       "<Figure size 1080x864 with 2 Axes>"
      ]
     },
     "metadata": {
      "needs_background": "light"
     },
     "output_type": "display_data"
    }
   ],
   "source": [
    "corr = df[numeric_features].corr()\n",
    "plt.figure(figsize=(15,12))\n",
    "sns.heatmap(corr)\n",
    "plt.show()"
   ]
  },
  {
   "cell_type": "code",
   "execution_count": 56,
   "metadata": {},
   "outputs": [
    {
     "name": "stdout",
     "output_type": "stream",
     "text": [
      "num_root vs num_compromised 0.9975798933487737\n",
      "srv_serror_rate vs serror_rate0.9986924138664222\n",
      "srv_count vs count 0.9433902218808042\n",
      "srv_rerror_rate vs rerror_rate 0.9953719458068703\n",
      "dst_host_same_srv_rate vs 0.9788464524225914 dst_host_srv_count\n",
      "dst_host_srv_serror_rate0.998285955975919 vs dst_host_serror_rate\n",
      "dst_host_srv_rerror_rate vs dst_host_rerror_rate0.9869790678086942\n",
      "dst_host_same_srv_rate vs same_srv_rate0.9316213679073936\n",
      "dst_host_srv_count vs same_srv_rate0.9075289446662882\n",
      "dst_host_same_src_port_rate vs srv_count0.9473596471554561\n",
      "dst_host_serror_rate vs serror_rate 0.9990059376728406\n",
      "dst_host_serror_rate vs srv_serror_rate 0.9979417182527545\n",
      "dst_host_srv_serror_rate vs serror_rate 0.9982509415923287\n",
      "dst_host_srv_serror_rate vs 0.9993917300385466\n",
      "dst_host_rerror_rate vs rerror_rate 0.9897555886509829\n",
      "dst_host_rerror_rate vs srv_rerror_rate 0.9855530624565976\n",
      "dst_host_srv_rerror_rate vs rerror_rate0.9859781723139902\n",
      "dst_host_srv_rerror_rate vs srv_rerror_rate 0.9879088754808538\n"
     ]
    }
   ],
   "source": [
    "print(\"num_root vs num_compromised {}\".format(df['num_root'].corr(df['num_compromised'])))\n",
    "print(\"srv_serror_rate vs serror_rate{}\".format(df['srv_serror_rate'].corr(df['serror_rate'])))\n",
    "print(\"srv_count vs count {}\".format(df['srv_count'].corr(df['count'])))\n",
    "print(\"srv_rerror_rate vs rerror_rate {}\".format(df['srv_rerror_rate'].corr(df['rerror_rate'])))\n",
    "print(\"dst_host_same_srv_rate vs {} dst_host_srv_count\".format(df['dst_host_same_srv_rate'].corr(df['dst_host_srv_count'])))\n",
    "print(\"dst_host_srv_serror_rate{} vs dst_host_serror_rate\".format(df['dst_host_srv_serror_rate'].corr(df['dst_host_serror_rate'])))\n",
    "print(\"dst_host_srv_rerror_rate vs dst_host_rerror_rate{}\".format(df['dst_host_srv_rerror_rate'].corr(df['dst_host_rerror_rate'])))\n",
    "print(\"dst_host_same_srv_rate vs same_srv_rate{}\".format(df['dst_host_same_srv_rate'].corr(df['same_srv_rate'])))\n",
    "print(\"dst_host_srv_count vs same_srv_rate{}\".format(df['dst_host_srv_count'].corr(df['same_srv_rate'])))\n",
    "print(\"dst_host_same_src_port_rate vs srv_count{}\".format(df['dst_host_same_src_port_rate'].corr(df['srv_count'])))\n",
    "print(\"dst_host_serror_rate vs serror_rate {}\".format(df['dst_host_serror_rate'].corr(df['serror_rate'])))\n",
    "print(\"dst_host_serror_rate vs srv_serror_rate {}\".format(df['dst_host_serror_rate'].corr(df['srv_serror_rate'])))\n",
    "print(\"dst_host_srv_serror_rate vs serror_rate {}\".format(df['dst_host_srv_serror_rate'].corr(df['serror_rate'])))\n",
    "print(\"dst_host_srv_serror_rate vs {}\".format(df['dst_host_srv_serror_rate'].corr(df['srv_serror_rate'])))\n",
    "print(\"dst_host_rerror_rate vs rerror_rate {}\".format(df['dst_host_rerror_rate'].corr(df['rerror_rate'])))\n",
    "print(\"dst_host_rerror_rate vs srv_rerror_rate {}\".format(df['dst_host_rerror_rate'].corr(df['srv_rerror_rate'])))\n",
    "print(\"dst_host_srv_rerror_rate vs rerror_rate{}\".format(df['dst_host_srv_rerror_rate'].corr(df['rerror_rate'])))\n",
    "print(\"dst_host_srv_rerror_rate vs srv_rerror_rate {}\".format(df['dst_host_srv_rerror_rate'].corr(df['srv_rerror_rate'])))"
   ]
  },
  {
   "cell_type": "code",
   "execution_count": 57,
   "metadata": {},
   "outputs": [],
   "source": [
    "# Based on the correlation, computation we will drop columns that are highly coorelated.\n",
    "df.drop('num_root',axis = 1,inplace = True)\n",
    "df.drop('srv_serror_rate',axis = 1,inplace = True)\n",
    "df.drop('srv_rerror_rate',axis = 1, inplace=True)\n",
    "df.drop('dst_host_srv_serror_rate',axis = 1, inplace=True)\n",
    "df.drop('dst_host_serror_rate',axis = 1, inplace=True)\n",
    "df.drop('dst_host_rerror_rate',axis = 1, inplace=True)\n",
    "df.drop('dst_host_srv_rerror_rate',axis = 1, inplace=True)\n",
    "df.drop('dst_host_same_srv_rate',axis = 1, inplace=True)"
   ]
  },
  {
   "cell_type": "code",
   "execution_count": 58,
   "metadata": {},
   "outputs": [],
   "source": [
    "# Based on the correlation, computation we will drop columns that are highly coorelated.\n",
    "df_test.drop('num_root',axis = 1,inplace = True)\n",
    "df_test.drop('srv_serror_rate',axis = 1,inplace = True)\n",
    "df_test.drop('srv_rerror_rate',axis = 1, inplace=True)\n",
    "df_test.drop('dst_host_srv_serror_rate',axis = 1, inplace=True)\n",
    "df_test.drop('dst_host_serror_rate',axis = 1, inplace=True)\n",
    "df_test.drop('dst_host_rerror_rate',axis = 1, inplace=True)\n",
    "df_test.drop('dst_host_srv_rerror_rate',axis = 1, inplace=True)\n",
    "df_test.drop('dst_host_same_srv_rate',axis = 1, inplace=True)"
   ]
  },
  {
   "cell_type": "code",
   "execution_count": 59,
   "metadata": {},
   "outputs": [],
   "source": [
    "# def multiclass_classifier(train_data):\n",
    "#     print(\"Multiclass Classifier\")\n",
    "#     types = requests.get(kdd_attack_types)\n",
    "#     attack_dict = {}\n",
    "#     types_text_split = types.text.split()\n",
    "#     for idx in range(0, len(types_text_split)):\n",
    "#         if idx < len(types_text_split) -1:\n",
    "#             attack_dict[types_text_split[idx]] = types_text_split[idx+1]\n",
    "#     attack_dict['normal'] = 'normal'\n",
    "#     #   Some label values have . at the end, so just copying everything, except the last character\n",
    "#     train_data['label'] = train_data.label.apply(lambda x : attack_dict[x[0:-1]] )\n",
    "#     return train_data"
   ]
  },
  {
   "cell_type": "markdown",
   "metadata": {},
   "source": [
    "# Model Execution"
   ]
  },
  {
   "cell_type": "code",
   "execution_count": 98,
   "metadata": {},
   "outputs": [],
   "source": [
    "# Array for storing classifier and scores\n",
    "#https://stackoverflow.com/questions/50666091/true-positive-rate-and-false-positive-rate-tpr-fpr-for-multi-class-data-in-py/50671617\n",
    "def generate_result_metrics(name, y_true, y_prediction):\n",
    "    cnf_matrix = confusion_matrix(y_true, y_prediction)\n",
    "#     print(\"Confusion Matrix for {} Classifier\\n{}\\n\".format(name, cnf_matrix))\n",
    "    sns.heatmap(cnf_matrix/np.sum(cnf_matrix), annot=True, fmt='.2%', cmap='Blues')\n",
    "    #[[1 1 3]\n",
    "    # [3 2 2]\n",
    "    # [1 3 1]]\n",
    "#     print(cnf_matrix)\n",
    "    FP = cnf_matrix[0][0]  \n",
    "    FN = cnf_matrix[1][0]\n",
    "    TP = cnf_matrix[1][1]\n",
    "    TN = cnf_matrix[0][0]\n",
    "\n",
    "    FP = FP.astype(float)\n",
    "    FN = FN.astype(float)\n",
    "    TP = TP.astype(float)\n",
    "    TN = TN.astype(float)\n",
    "\n",
    "    result = {}\n",
    "    result['Algorithm'] = name\n",
    "    \n",
    "    # Overall accuracy\n",
    "    ACC = (TP+TN)/(TP+FP+FN+TN)\n",
    "    result['ACC'] = ACC\n",
    "    print(\"The Overall accuracy {} is {}\".format(name, ACC))\n",
    "    \n",
    "    # Precision or positive predictive value\n",
    "    PPV = TP/(TP+FP)\n",
    "    result['PPV'] = PPV\n",
    "    print(\"The Precision or positive predictive value (precision) for {} is {}\".format(name, PPV))\n",
    "    \n",
    "    # Sensitivity, hit rate, recall, or true positive rate\n",
    "    TPR = TP/(TP+FN)\n",
    "    result['TPR'] = TPR\n",
    "    print(\"The True Positive Rate (recall) for {} is {}\".format(name, TPR))\n",
    "    \n",
    "    # f1-score\n",
    "    result['Algorithm'] = name\n",
    "    F1 = 2*PPV*TPR/(PPV+TPR)\n",
    "    result['F1'] = F1\n",
    "    print(\"The F1-score for {} is {}\".format(name, F1))\n",
    "    \n",
    "    # Specificity or true negative rate\n",
    "    TNR = TN/(TN+FP) \n",
    "    result['TNR'] = TNR\n",
    "    print(\"The True Negative Rate for {} is {}\".format(name, TNR))\n",
    "\n",
    "    # Negative predictive value\n",
    "    NPV = TN/(TN+FN)\n",
    "    result['NPV'] = NPV\n",
    "    print(\"The Negative predictive value for {} is {}\".format(name, NPV))\n",
    "\n",
    "    # Fall out or false positive rate\n",
    "    FPR = FP/(FP+TN)\n",
    "    result['FPR'] = FPR\n",
    "    print(\"The Fall out or false positive rate {} is {}\".format(name, FPR))\n",
    "\n",
    "    # False negative rate\n",
    "    FNR = FN/(TP+FN)\n",
    "    result['FNR'] = FNR\n",
    "    print(\"The False negative rate {} is {}\".format(name, FNR))\n",
    "\n",
    "    # False discovery rate\n",
    "    FDR = FP/(TP+FP)\n",
    "    result['FDR'] = FDR\n",
    "    print(\"The False discovery rate {} is {}\".format(name, FDR))\n",
    "    \n",
    "    return result"
   ]
  },
  {
   "cell_type": "code",
   "execution_count": 104,
   "metadata": {},
   "outputs": [],
   "source": [
    "def decision_trees(train_feature, train_label, test_feature, test_label):\n",
    "    clf = tree.DecisionTreeClassifier(splitter = \"random\", criterion = \"entropy\", max_depth=15)\n",
    "    clf.fit(train_feature, train_label.values.ravel())\n",
    "    prediction = clf.predict(test_feature)\n",
    "    print(\"Feature Importance {}\".format(clf.feature_importances_))\n",
    "    return prediction\n"
   ]
  },
  {
   "cell_type": "code",
   "execution_count": 103,
   "metadata": {},
   "outputs": [],
   "source": [
    "def logistic_classifier(train_feature, train_label, test_feature, test_label):\n",
    "    clf = LogisticRegression(max_iter=90)\n",
    "    clf.fit(train_feature, train_label.values.ravel())\n",
    "    prediction = clf.predict(test_feature)\n",
    "    return prediction\n"
   ]
  },
  {
   "cell_type": "code",
   "execution_count": 107,
   "metadata": {},
   "outputs": [],
   "source": [
    "def random_forest_classifier(train_feature, train_label, test_feature, test_label):\n",
    "    clf = RandomForestClassifier(n_estimators=30)\n",
    "    clf.fit(train_feature, train_label.values.ravel())\n",
    "    prediction = clf.predict(test_feature)\n",
    "    print(\"Feature Importance {}\".format(clf.feature_importances_))\n",
    "    return prediction\n"
   ]
  },
  {
   "cell_type": "code",
   "execution_count": 114,
   "metadata": {},
   "outputs": [],
   "source": [
    "def gaussian_naive_bayes_classifier(train_feature, train_label, test_feature, test_label):\n",
    "    clf = GaussianNB()\n",
    "    clf.fit(train_feature, train_label.values.ravel())\n",
    "    prediction = clf.predict(test_feature)\n",
    "    return prediction\n"
   ]
  },
  {
   "cell_type": "markdown",
   "metadata": {},
   "source": [
    "# Binary Classifier"
   ]
  },
  {
   "cell_type": "code",
   "execution_count": 99,
   "metadata": {},
   "outputs": [],
   "source": [
    "Y_train = df['label'] # train label\n",
    "Y_test = df_test['label'] # test label\n",
    "X_train = df.drop(['label'], axis=1) # train feature\n",
    "X_test =  df_test.drop(['label'], axis=1) # test feature\n",
    "result_metric = []"
   ]
  },
  {
   "cell_type": "markdown",
   "metadata": {},
   "source": [
    "<p>Decision Tree</p>"
   ]
  },
  {
   "cell_type": "code",
   "execution_count": 100,
   "metadata": {},
   "outputs": [
    {
     "name": "stdout",
     "output_type": "stream",
     "text": [
      "Feature Importance [6.95059440e-05 2.51474498e-01 4.13779060e-03 1.10690056e-04\n",
      " 1.21184097e-06 1.86522790e-03 2.62207064e-06 9.92295842e-04\n",
      " 9.50120708e-05 5.77900737e-01 4.08307536e-03 1.12310434e-05\n",
      " 2.78515111e-07 8.83835512e-06 9.60690809e-06 8.25348505e-06\n",
      " 0.00000000e+00 3.71045822e-04 2.76064261e-02 1.73605577e-04\n",
      " 7.27165040e-03 5.62251786e-03 8.10835794e-05 8.98171917e-04\n",
      " 8.89608120e-04 1.09403985e-01 2.63403573e-03 2.10539972e-03\n",
      " 9.54717913e-04 1.21687757e-03]\n",
      "The Overall accuracy Decision Tree is 0.7747500067383628\n",
      "The Precision or positive predictive value (precision) for Decision Tree is 0.7902623156136933\n",
      "The True Positive Rate (recall) for Decision Tree is 0.9070301394368222\n",
      "The F1-score for Decision Tree is 0.8446296172351991\n",
      "The True Negative Rate for Decision Tree is 0.5\n",
      "The Negative predictive value for Decision Tree is 0.7213952375254278\n",
      "The Fall out or false positive rate Decision Tree is 0.5\n",
      "The False negative rate Decision Tree is 0.09296986056317781\n",
      "The False discovery rate Decision Tree is 0.20973768438630672\n"
     ]
    },
    {
     "data": {
      "image/png": "[encoded data removed]",
      "text/plain": [
       "<Figure size 432x288 with 2 Axes>"
      ]
     },
     "metadata": {
      "needs_background": "light"
     },
     "output_type": "display_data"
    }
   ],
   "source": [
    "prediction = decision_trees(X_train, Y_train, X_test, Y_test)\n",
    "result = generate_result_metrics(\"Decision Tree\", Y_test, prediction)\n",
    "result_metric.append(result)  "
   ]
  },
  {
   "cell_type": "code",
   "execution_count": 101,
   "metadata": {},
   "outputs": [
    {
     "data": {
      "image/png": "[encoded data removed]",
      "text/plain": [
       "<Figure size 432x288 with 1 Axes>"
      ]
     },
     "metadata": {
      "needs_background": "light"
     },
     "output_type": "display_data"
    }
   ],
   "source": [
    "# Show ROC curve\n",
    "fpr, tpr, threshold = metrics.roc_curve(Y_test, prediction)\n",
    "roc_auc = metrics.auc(fpr, tpr)\n",
    "plt.title('Receiver Operating Characteristic Curve')\n",
    "plt.plot(fpr, tpr, 'b', label = 'AUC = %0.2f' % roc_auc)\n",
    "plt.legend(loc = 'lower right')\n",
    "plt.plot([0, 1], [0, 1],'r--')\n",
    "plt.xlim([0, 1])\n",
    "plt.ylim([0, 1])\n",
    "plt.ylabel('True Positive Rate')\n",
    "plt.xlabel('False Positive Rate')\n",
    "plt.show()"
   ]
  },
  {
   "cell_type": "markdown",
   "metadata": {},
   "source": [
    "Logistic Regression"
   ]
  },
  {
   "cell_type": "code",
   "execution_count": 105,
   "metadata": {},
   "outputs": [
    {
     "name": "stdout",
     "output_type": "stream",
     "text": [
      "The Overall accuracy Logistic Regression is 0.727931036362348\n",
      "The Precision or positive predictive value (precision) for Logistic Regression is 0.7819432328307581\n",
      "The True Positive Rate (recall) for Logistic Regression is 0.833945598875561\n",
      "The F1-score for Logistic Regression is 0.8071076484898373\n",
      "The True Negative Rate for Logistic Regression is 0.5\n",
      "The Negative predictive value for Logistic Regression is 0.5834193154156692\n",
      "The Fall out or false positive rate Logistic Regression is 0.5\n",
      "The False negative rate Logistic Regression is 0.16605440112443898\n",
      "The False discovery rate Logistic Regression is 0.21805676716924194\n"
     ]
    },
    {
     "data": {
      "image/png": "[encoded data removed]",
      "text/plain": [
       "<Figure size 432x288 with 2 Axes>"
      ]
     },
     "metadata": {
      "needs_background": "light"
     },
     "output_type": "display_data"
    }
   ],
   "source": [
    "prediction = logistic_classifier(X_train, Y_train, X_test, Y_test)\n",
    "result = generate_result_metrics(\"Logistic Regression\", Y_test, prediction)\n",
    "result_metric.append(result)  "
   ]
  },
  {
   "cell_type": "code",
   "execution_count": 106,
   "metadata": {},
   "outputs": [
    {
     "data": {
      "image/png": "[encoded data removed]",
      "text/plain": [
       "<Figure size 432x288 with 1 Axes>"
      ]
     },
     "metadata": {
      "needs_background": "light"
     },
     "output_type": "display_data"
    }
   ],
   "source": [
    "# Show ROC curve\n",
    "fpr, tpr, threshold = metrics.roc_curve(Y_test, prediction)\n",
    "roc_auc = metrics.auc(fpr, tpr)\n",
    "plt.title('Receiver Operating Characteristic Curve')\n",
    "plt.plot(fpr, tpr, 'b', label = 'AUC = %0.2f' % roc_auc)\n",
    "plt.legend(loc = 'lower right')\n",
    "plt.plot([0, 1], [0, 1],'r--')\n",
    "plt.xlim([0, 1])\n",
    "plt.ylim([0, 1])\n",
    "plt.ylabel('True Positive Rate')\n",
    "plt.xlabel('False Positive Rate')\n",
    "plt.show()"
   ]
  },
  {
   "cell_type": "markdown",
   "metadata": {},
   "source": [
    "Random Forest"
   ]
  },
  {
   "cell_type": "code",
   "execution_count": 109,
   "metadata": {},
   "outputs": [
    {
     "name": "stdout",
     "output_type": "stream",
     "text": [
      "Feature Importance [3.56105141e-03 4.25531537e-02 6.81588285e-02 1.09499553e-01\n",
      " 3.78108451e-06 5.01276502e-04 1.78515936e-06 6.63283972e-04\n",
      " 2.85096931e-05 1.36210319e-01 7.34891785e-04 5.35111519e-06\n",
      " 1.84104807e-06 7.89173631e-05 4.37305581e-06 1.23305236e-04\n",
      " 3.61032963e-08 6.96850204e-05 2.31469099e-01 4.03245904e-02\n",
      " 1.82635057e-02 3.75468597e-03 5.05592062e-02 4.43304738e-02\n",
      " 1.13507843e-02 7.96210230e-02 3.04600198e-02 2.07726376e-02\n",
      " 8.74403648e-02 1.94536671e-02]\n",
      "The Overall accuracy Random Forest is 0.7738853674837763\n",
      "The Precision or positive predictive value (precision) for Random Forest is 0.7899645146799182\n",
      "The True Positive Rate (recall) for Random Forest is 0.9058082703764635\n",
      "The F1-score for Random Forest is 0.843929560618828\n",
      "The True Negative Rate for Random Forest is 0.5\n",
      "The Negative predictive value for Random Forest is 0.7188539146395242\n",
      "The Fall out or false positive rate Random Forest is 0.5\n",
      "The False negative rate Random Forest is 0.09419172962353656\n",
      "The False discovery rate Random Forest is 0.21003548532008176\n"
     ]
    },
    {
     "data": {
      "image/png": "[encoded data removed]",
      "text/plain": [
       "<Figure size 432x288 with 2 Axes>"
      ]
     },
     "metadata": {
      "needs_background": "light"
     },
     "output_type": "display_data"
    }
   ],
   "source": [
    "prediction = random_forest_classifier(X_train, Y_train, X_test, Y_test)\n",
    "result = generate_result_metrics(\"Random Forest\", Y_test, prediction)\n",
    "result_metric.append(result)  "
   ]
  },
  {
   "cell_type": "code",
   "execution_count": 110,
   "metadata": {},
   "outputs": [
    {
     "data": {
      "image/png": "[encoded data removed]",
      "text/plain": [
       "<Figure size 432x288 with 1 Axes>"
      ]
     },
     "metadata": {
      "needs_background": "light"
     },
     "output_type": "display_data"
    }
   ],
   "source": [
    "# Show ROC curve\n",
    "fpr, tpr, threshold = metrics.roc_curve(Y_test, prediction)\n",
    "roc_auc = metrics.auc(fpr, tpr)\n",
    "plt.title('Receiver Operating Characteristic Curve')\n",
    "plt.plot(fpr, tpr, 'b', label = 'AUC = %0.2f' % roc_auc)\n",
    "plt.legend(loc = 'lower right')\n",
    "plt.plot([0, 1], [0, 1],'r--')\n",
    "plt.xlim([0, 1])\n",
    "plt.ylim([0, 1])\n",
    "plt.ylabel('True Positive Rate')\n",
    "plt.xlabel('False Positive Rate')\n",
    "plt.show()"
   ]
  },
  {
   "cell_type": "markdown",
   "metadata": {},
   "source": [
    "Naive Bayes"
   ]
  },
  {
   "cell_type": "code",
   "execution_count": 115,
   "metadata": {},
   "outputs": [
    {
     "name": "stdout",
     "output_type": "stream",
     "text": [
      "The Overall accuracy Naive Bayes is 0.7079403538441524\n",
      "The Precision or positive predictive value (precision) for Naive Bayes is 0.7730970510656054\n",
      "The True Positive Rate (recall) for Naive Bayes is 0.8063656982223003\n",
      "The F1-score for Naive Bayes is 0.7893810014287138\n",
      "The True Negative Rate for Naive Bayes is 0.5\n",
      "The Negative predictive value for Naive Bayes is 0.5500032478680067\n",
      "The Fall out or false positive rate Naive Bayes is 0.5\n",
      "The False negative rate Naive Bayes is 0.1936343017776997\n",
      "The False discovery rate Naive Bayes is 0.22690294893439453\n"
     ]
    },
    {
     "data": {
      "image/png": "[encoded data removed]",
      "text/plain": [
       "<Figure size 432x288 with 2 Axes>"
      ]
     },
     "metadata": {
      "needs_background": "light"
     },
     "output_type": "display_data"
    }
   ],
   "source": [
    "prediction = gaussian_naive_bayes_classifier(X_train, Y_train, X_test, Y_test)\n",
    "result = generate_result_metrics(\"Naive Bayes\", Y_test, prediction)\n",
    "result_metric.append(result) "
   ]
  },
  {
   "cell_type": "code",
   "execution_count": 116,
   "metadata": {},
   "outputs": [
    {
     "data": {
      "image/png": "[encoded data removed]",
      "text/plain": [
       "<Figure size 432x288 with 1 Axes>"
      ]
     },
     "metadata": {
      "needs_background": "light"
     },
     "output_type": "display_data"
    }
   ],
   "source": [
    "# Show ROC curve\n",
    "fpr, tpr, threshold = metrics.roc_curve(Y_test, prediction)\n",
    "roc_auc = metrics.auc(fpr, tpr)\n",
    "plt.title('Receiver Operating Characteristic Curve')\n",
    "plt.plot(fpr, tpr, 'b', label = 'AUC = %0.2f' % roc_auc)\n",
    "plt.legend(loc = 'lower right')\n",
    "plt.plot([0, 1], [0, 1],'r--')\n",
    "plt.xlim([0, 1])\n",
    "plt.ylim([0, 1])\n",
    "plt.ylabel('True Positive Rate')\n",
    "plt.xlabel('False Positive Rate')\n",
    "plt.show()"
   ]
  },
  {
   "cell_type": "markdown",
   "metadata": {},
   "source": [
    "SVM\n",
    "<p>we use 4 differnent SVM classfiers: SVC with linear kernel function, SVC with rbf (Radial basis function kernel) kernel, SVC with polynomial (degree 3) kernel, LinearSVC (linear kernel); It takes a long time to train. Results show that SVM with LinearSVC (linear kernel) has the best performance.</p>"
   ]
  },
  {
   "cell_type": "code",
   "execution_count": 118,
   "metadata": {},
   "outputs": [
    {
     "name": "stdout",
     "output_type": "stream",
     "text": [
      "The Overall accuracy SVM is 0.8292579254973729\n",
      "The Precision or positive predictive value (precision) for SVM is 0.8427684597203634\n",
      "The True Positive Rate (recall) for SVM is 0.9454072098260633\n",
      "The F1-score for SVM is 0.8911421753498492\n",
      "The True Negative Rate for SVM is 0.5\n",
      "The Negative predictive value for SVM is 0.7636401355369615\n",
      "The Fall out or false positive rate SVM is 0.5\n",
      "The False negative rate SVM is 0.05459279017393665\n",
      "The False discovery rate SVM is 0.15723154027963665\n"
     ]
    },
    {
     "data": {
      "image/png": "[encoded data removed]",
      "text/plain": [
       "<Figure size 432x288 with 2 Axes>"
      ]
     },
     "metadata": {
      "needs_background": "light"
     },
     "output_type": "display_data"
    }
   ],
   "source": [
    "from sklearn import svm\n",
    "C = 1.0  # SVM regularization parameter\n",
    "lin_svc = svm.LinearSVC(C=C).fit(X_train, Y_train)\n",
    "prediction = lin_svc.predict(X_test);\n",
    "result = generate_result_metrics(\"SVM\", Y_test, prediction)\n",
    "result_metric.append(result) "
   ]
  },
  {
   "cell_type": "code",
   "execution_count": 119,
   "metadata": {},
   "outputs": [
    {
     "data": {
      "image/png": "[encoded data removed]",
      "text/plain": [
       "<Figure size 432x288 with 1 Axes>"
      ]
     },
     "metadata": {
      "needs_background": "light"
     },
     "output_type": "display_data"
    }
   ],
   "source": [
    "# Show ROC curve\n",
    "fpr, tpr, threshold = metrics.roc_curve(Y_test, prediction)\n",
    "roc_auc = metrics.auc(fpr, tpr)\n",
    "plt.title('Receiver Operating Characteristic Curve')\n",
    "plt.plot(fpr, tpr, 'b', label = 'AUC = %0.2f' % roc_auc)\n",
    "plt.legend(loc = 'lower right')\n",
    "plt.plot([0, 1], [0, 1],'r--')\n",
    "plt.xlim([0, 1])\n",
    "plt.ylim([0, 1])\n",
    "plt.ylabel('True Positive Rate')\n",
    "plt.xlabel('False Positive Rate')\n",
    "plt.show()"
   ]
  },
  {
   "cell_type": "markdown",
   "metadata": {},
   "source": [
    "K-Nearest Neighbour"
   ]
  },
  {
   "cell_type": "code",
   "execution_count": null,
   "metadata": {},
   "outputs": [],
   "source": [
    "from sklearn.neighbors import KNeighborsClassifier\n",
    "clf = KNeighborsClassifier()\n",
    "clf.fit(X_train, Y_train)\n",
    "prediction = clf.predict(X_test)\n",
    "result = generate_result_metrics(\"K-nn\", Y_test, prediction)\n",
    "result_metric.append(result) "
   ]
  },
  {
   "cell_type": "code",
   "execution_count": null,
   "metadata": {},
   "outputs": [],
   "source": [
    "# Show ROC curve\n",
    "fpr, tpr, threshold = metrics.roc_curve(Y_test, prediction)\n",
    "roc_auc = metrics.auc(fpr, tpr)\n",
    "plt.title('Receiver Operating Characteristic Curve')\n",
    "plt.plot(fpr, tpr, 'b', label = 'AUC = %0.2f' % roc_auc)\n",
    "plt.legend(loc = 'lower right')\n",
    "plt.plot([0, 1], [0, 1],'r--')\n",
    "plt.xlim([0, 1])\n",
    "plt.ylim([0, 1])\n",
    "plt.ylabel('True Positive Rate')\n",
    "plt.xlabel('False Positive Rate')\n",
    "plt.show()"
   ]
  },
  {
   "cell_type": "code",
   "execution_count": null,
   "metadata": {},
   "outputs": [],
   "source": [
    "pd.DataFrame(result_metric)"
   ]
  },
  {
   "cell_type": "code",
   "execution_count": 120,
   "metadata": {},
   "outputs": [
    {
     "data": {
      "text/plain": [
       "[{'Algorithm': 'Decision Tree',\n",
       "  'ACC': 0.7747500067383628,\n",
       "  'PPV': 0.7902623156136933,\n",
       "  'TPR': 0.9070301394368222,\n",
       "  'F1': 0.8446296172351991,\n",
       "  'TNR': 0.5,\n",
       "  'NPV': 0.7213952375254278,\n",
       "  'FPR': 0.5,\n",
       "  'FNR': 0.09296986056317781,\n",
       "  'FDR': 0.20973768438630672},\n",
       " {'Algorithm': 'Logistic Regression',\n",
       "  'ACC': 0.727931036362348,\n",
       "  'PPV': 0.7819432328307581,\n",
       "  'TPR': 0.833945598875561,\n",
       "  'F1': 0.8071076484898373,\n",
       "  'TNR': 0.5,\n",
       "  'NPV': 0.5834193154156692,\n",
       "  'FPR': 0.5,\n",
       "  'FNR': 0.16605440112443898,\n",
       "  'FDR': 0.21805676716924194},\n",
       " {'Algorithm': 'Random Forest',\n",
       "  'ACC': 0.7738853674837763,\n",
       "  'PPV': 0.7899645146799182,\n",
       "  'TPR': 0.9058082703764635,\n",
       "  'F1': 0.843929560618828,\n",
       "  'TNR': 0.5,\n",
       "  'NPV': 0.7188539146395242,\n",
       "  'FPR': 0.5,\n",
       "  'FNR': 0.09419172962353656,\n",
       "  'FDR': 0.21003548532008176},\n",
       " {'Algorithm': 'Naive Bayes',\n",
       "  'ACC': 0.7079403538441524,\n",
       "  'PPV': 0.7730970510656054,\n",
       "  'TPR': 0.8063656982223003,\n",
       "  'F1': 0.7893810014287138,\n",
       "  'TNR': 0.5,\n",
       "  'NPV': 0.5500032478680067,\n",
       "  'FPR': 0.5,\n",
       "  'FNR': 0.1936343017776997,\n",
       "  'FDR': 0.22690294893439453},\n",
       " {'Algorithm': 'SVM',\n",
       "  'ACC': 0.8292579254973729,\n",
       "  'PPV': 0.8427684597203634,\n",
       "  'TPR': 0.9454072098260633,\n",
       "  'F1': 0.8911421753498492,\n",
       "  'TNR': 0.5,\n",
       "  'NPV': 0.7636401355369615,\n",
       "  'FPR': 0.5,\n",
       "  'FNR': 0.05459279017393665,\n",
       "  'FDR': 0.15723154027963665}]"
      ]
     },
     "execution_count": 120,
     "metadata": {},
     "output_type": "execute_result"
    }
   ],
   "source": [
    "result_metric"
   ]
  },
  {
   "cell_type": "code",
   "execution_count": null,
   "metadata": {},
   "outputs": [],
   "source": []
  }
 ],
 "metadata": {
  "kernelspec": {
   "display_name": "Python 3",
   "language": "python",
   "name": "python3"
  },
  "language_info": {
   "codemirror_mode": {
    "name": "ipython",
    "version": 3
   },
   "file_extension": ".py",
   "mimetype": "text/x-python",
   "name": "python",
   "nbconvert_exporter": "python",
   "pygments_lexer": "ipython3",
   "version": "3.7.4"
  }
 },
 "nbformat": 4,
 "nbformat_minor": 5
}
